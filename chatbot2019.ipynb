{
 "cells": [
  {
   "cell_type": "markdown",
   "metadata": {
    "colab_type": "text",
    "id": "c5EB3sOo-nfv"
   },
   "source": [
    "# 展示如何利用序列轉序列模型，進行問答模型的學習、測試 \n",
    "## 2019.5.1. Version 1.0 by sekewei@mail.tku.edu.tw"
   ]
  },
  {
   "cell_type": "markdown",
   "metadata": {
    "colab_type": "text",
    "id": "NIuV8hXg-6Sa"
   },
   "source": [
    "程式目錄架構\n",
    "\n",
    "/content/drive/My Drive/Colab Notebooks/seq2seq/ \n",
    "\n",
    "         chatbot2019.ipynb 模型的訓練及測試\n",
    "         \n",
    "         save/model/translate2019_20k/1-1_512/  模型目錄\n",
    "                  x00_backup_bidir_model.tar\n",
    "         \n",
    "         save/training_model/translate2019_20k/  訓練所須字典，批次，語料目錄\n",
    "                  x00_training_batches_64.tar\n",
    "                  pairs.tar\n",
    "                  voc.tar\n",
    "   \n",
    "         pytorch_chatbot/\n",
    "                   __init__.py\n",
    "                   config.py\n",
    "                   evaluate.py\n",
    "                   load.py\n",
    "                   main.py\n",
    "                   model.py\n",
    "                   README.md\n",
    "                   train.py\n"
   ]
  },
  {
   "cell_type": "markdown",
   "metadata": {
    "colab_type": "text",
    "id": "2J2cI7f2AYwM"
   },
   "source": [
    "# 安裝套件"
   ]
  },
  {
   "cell_type": "markdown",
   "metadata": {
    "colab_type": "text",
    "id": "qglaDR3x-21D"
   },
   "source": [
    "安裝pytorch環境"
   ]
  },
  {
   "cell_type": "code",
   "execution_count": 4,
   "metadata": {
    "colab": {
     "base_uri": "https://localhost:8080/",
     "height": 353
    },
    "colab_type": "code",
    "executionInfo": {
     "elapsed": 4682,
     "status": "ok",
     "timestamp": 1556627698636,
     "user": {
      "displayName": "broadcast seke",
      "photoUrl": "https://lh3.googleusercontent.com/-au9Xrs4fCsQ/AAAAAAAAAAI/AAAAAAAAArM/4SGRgg_M288/s64/photo.jpg",
      "userId": "14328858031672786232"
     },
     "user_tz": -480
    },
    "id": "p1SYERm6NRYD",
    "outputId": "596dac92-eb92-4057-b624-9d6087b549f2"
   },
   "outputs": [
    {
     "name": "stdout",
     "output_type": "stream",
     "text": [
      "Ubuntu 18.04.1 LTS \\n \\l\n",
      "\n",
      "Python 3.6.8 :: Anaconda, Inc.\n",
      "Wed May  1 11:57:24 2019       \n",
      "+-----------------------------------------------------------------------------+\n",
      "| NVIDIA-SMI 410.48                 Driver Version: 410.48                    |\n",
      "|-------------------------------+----------------------+----------------------+\n",
      "| GPU  Name        Persistence-M| Bus-Id        Disp.A | Volatile Uncorr. ECC |\n",
      "| Fan  Temp  Perf  Pwr:Usage/Cap|         Memory-Usage | GPU-Util  Compute M. |\n",
      "|===============================+======================+======================|\n",
      "|   0  GeForce RTX 208...  Off  | 00000000:01:00.0 Off |                  N/A |\n",
      "|  0%   46C    P8     5W / 250W |   1827MiB / 10989MiB |      0%      Default |\n",
      "+-------------------------------+----------------------+----------------------+\n",
      "|   1  GeForce RTX 208...  Off  | 00000000:07:00.0 Off |                  N/A |\n",
      "|  0%   55C    P8    29W / 250W |     10MiB / 10986MiB |      0%      Default |\n",
      "+-------------------------------+----------------------+----------------------+\n",
      "                                                                               \n",
      "+-----------------------------------------------------------------------------+\n",
      "| Processes:                                                       GPU Memory |\n",
      "|  GPU       PID   Type   Process name                             Usage      |\n",
      "|=============================================================================|\n",
      "|    0     31532      C   /home/seke/.conda/envs/chatbot/bin/python   1817MiB |\n",
      "+-----------------------------------------------------------------------------+\n"
     ]
    }
   ],
   "source": [
    "! cat /etc/issue\n",
    "! python --version\n",
    "! nvidia-smi"
   ]
  },
  {
   "cell_type": "code",
   "execution_count": 5,
   "metadata": {
    "colab": {
     "base_uri": "https://localhost:8080/",
     "height": 339
    },
    "colab_type": "code",
    "executionInfo": {
     "elapsed": 63265,
     "status": "ok",
     "timestamp": 1556627757234,
     "user": {
      "displayName": "broadcast seke",
      "photoUrl": "https://lh3.googleusercontent.com/-au9Xrs4fCsQ/AAAAAAAAAAI/AAAAAAAAArM/4SGRgg_M288/s64/photo.jpg",
      "userId": "14328858031672786232"
     },
     "user_tz": -480
    },
    "id": "fuMUwUUU__Qf",
    "outputId": "c8f1ee5b-2b85-4d74-d61a-67992ec65d49"
   },
   "outputs": [],
   "source": [
    "#!pip3 install http://download.pytorch.org/whl/cu80/torch-0.4.1-cp36-cp36m-linux_x86_64.whl\n",
    "#!pip3 uninstall torch\n",
    "#!pip3 install https://download.pytorch.org/whl/cu100/torch-1.0.1.post2-cp36-cp36m-linux_x86_64.whl\n",
    "#!pip3 install torchvision\n",
    "#!pip3 install torch torchvision"
   ]
  },
  {
   "cell_type": "markdown",
   "metadata": {
    "colab_type": "text",
    "id": "xzLx-XLfATqE"
   },
   "source": [
    "# 載入語料"
   ]
  },
  {
   "cell_type": "code",
   "execution_count": 6,
   "metadata": {
    "colab": {
     "base_uri": "https://localhost:8080/",
     "height": 54
    },
    "colab_type": "code",
    "executionInfo": {
     "elapsed": 729,
     "status": "ok",
     "timestamp": 1556627764546,
     "user": {
      "displayName": "broadcast seke",
      "photoUrl": "https://lh3.googleusercontent.com/-au9Xrs4fCsQ/AAAAAAAAAAI/AAAAAAAAArM/4SGRgg_M288/s64/photo.jpg",
      "userId": "14328858031672786232"
     },
     "user_tz": -480
    },
    "id": "bV7ot_tppTi_",
    "outputId": "869d0e5c-a342-4113-af94-d92b3dbc9d33"
   },
   "outputs": [],
   "source": [
    "#coding:utf-8\n",
    "import os\n",
    "\n",
    "# Load the Drive helper and mount\n",
    "#from google.colab import drive\n",
    "\n",
    "# This will prompt for authorization.\n",
    "#drive.mount('/content/drive')"
   ]
  },
  {
   "cell_type": "markdown",
   "metadata": {
    "colab_type": "text",
    "id": "8hVmlQ5bAq4d"
   },
   "source": [
    "切換工作目錄，列出工作目錄內容"
   ]
  },
  {
   "cell_type": "code",
   "execution_count": 8,
   "metadata": {
    "colab": {
     "base_uri": "https://localhost:8080/",
     "height": 34
    },
    "colab_type": "code",
    "executionInfo": {
     "elapsed": 2156,
     "status": "ok",
     "timestamp": 1556627768104,
     "user": {
      "displayName": "broadcast seke",
      "photoUrl": "https://lh3.googleusercontent.com/-au9Xrs4fCsQ/AAAAAAAAAAI/AAAAAAAAArM/4SGRgg_M288/s64/photo.jpg",
      "userId": "14328858031672786232"
     },
     "user_tz": -480
    },
    "id": "z1_dI__wozUC",
    "outputId": "a73e67ba-75c9-4fdc-8686-07ecb2489c9c"
   },
   "outputs": [
    {
     "name": "stdout",
     "output_type": "stream",
     "text": [
      "chatbot2017.ipynb  data\t\t    requirements.txt  save\r\n",
      "chatbot2019.ipynb  pytorch_chatbot  runtest.ipynb\r\n"
     ]
    }
   ],
   "source": [
    "homePath = '/home/seke/jupyter/seq2seq/'\n",
    "##################################\n",
    "os.chdir(homePath)\n",
    "!ls"
   ]
  },
  {
   "cell_type": "code",
   "execution_count": 9,
   "metadata": {
    "colab": {},
    "colab_type": "code",
    "id": "1oBLeHTGJw6z"
   },
   "outputs": [],
   "source": [
    "corpusTxt = 'translate2019_20k.txt'\n",
    "######################################\n",
    "import codecs\n",
    "\n",
    "#homePath = '/content/drive/My Drive/Colab Notebooks/seq2seq/'\n",
    "homePath = '/home/seke/jupyter/seq2seq/'\n",
    "dataPath = 'data/'\n",
    "\n",
    "filePath = homePath + dataPath + corpusTxt\n",
    "\n",
    "with codecs.open(filePath, \"r\", \"utf-8\") as f:\n",
    "    corpus_raw = f.readlines()\n",
    "\n",
    "corpus_raw2 = [line.strip() for line in corpus_raw]\n",
    "\n",
    "corpus_train = {}\n",
    "corpus_train['question'] = corpus_raw2[0::2]\n",
    "corpus_train['answer'] = corpus_raw2[1::2]"
   ]
  },
  {
   "cell_type": "markdown",
   "metadata": {
    "colab_type": "text",
    "id": "wY2RYPEBBIf6"
   },
   "source": [
    "## 利用表格檢視訓練資料 "
   ]
  },
  {
   "cell_type": "code",
   "execution_count": 10,
   "metadata": {
    "colab": {
     "base_uri": "https://localhost:8080/",
     "height": 2234
    },
    "colab_type": "code",
    "executionInfo": {
     "elapsed": 720,
     "status": "ok",
     "timestamp": 1556627359246,
     "user": {
      "displayName": "broadcast seke",
      "photoUrl": "https://lh3.googleusercontent.com/-au9Xrs4fCsQ/AAAAAAAAAAI/AAAAAAAAArM/4SGRgg_M288/s64/photo.jpg",
      "userId": "14328858031672786232"
     },
     "user_tz": -480
    },
    "id": "PM7w1LZHzezw",
    "outputId": "fb0a3c46-98da-40cd-b1d6-47909af85981"
   },
   "outputs": [
    {
     "data": {
      "text/html": [
       "<div>\n",
       "<style scoped>\n",
       "    .dataframe tbody tr th:only-of-type {\n",
       "        vertical-align: middle;\n",
       "    }\n",
       "\n",
       "    .dataframe tbody tr th {\n",
       "        vertical-align: top;\n",
       "    }\n",
       "\n",
       "    .dataframe thead th {\n",
       "        text-align: right;\n",
       "    }\n",
       "</style>\n",
       "<table border=\"1\" class=\"dataframe\">\n",
       "  <thead>\n",
       "    <tr style=\"text-align: right;\">\n",
       "      <th></th>\n",
       "      <th>question</th>\n",
       "      <th>answer</th>\n",
       "    </tr>\n",
       "  </thead>\n",
       "  <tbody>\n",
       "    <tr>\n",
       "      <th>0</th>\n",
       "      <td>For greater sharpness, but with a slight incre...</td>\n",
       "      <td>为了 更好 的 锐度 ， 但是 附带 的 会 多一些 颗粒 度 ， 可以 使用 这个 显影剂...</td>\n",
       "    </tr>\n",
       "    <tr>\n",
       "      <th>1</th>\n",
       "      <td>He calls the Green Book, his book of teachings...</td>\n",
       "      <td>他 还 把 宣扬 自己 思想 的 所谓 《 绿皮书 》 称作 “ 新 福音书 ” 。</td>\n",
       "    </tr>\n",
       "    <tr>\n",
       "      <th>2</th>\n",
       "      <td>And the light breeze moves me to caress her lo...</td>\n",
       "      <td>微风 推着 我 去 爱抚 它 的 长耳朵</td>\n",
       "    </tr>\n",
       "    <tr>\n",
       "      <th>3</th>\n",
       "      <td>They have the blood of martyrs is the White to...</td>\n",
       "      <td>它们 的 先烈 们 的 鲜血 是 白流 了 …</td>\n",
       "    </tr>\n",
       "    <tr>\n",
       "      <th>4</th>\n",
       "      <td>Finally, the Lakers head to the Motor City to ...</td>\n",
       "      <td>最后 ， 在 1 月 31 日 ， 湖人 将 前往 汽车城 底特律 挑战 活塞队 ， 活塞 ...</td>\n",
       "    </tr>\n",
       "    <tr>\n",
       "      <th>5</th>\n",
       "      <td>\"The perfect match—my father loves names and J...</td>\n",
       "      <td>“ 真是 天造地设 的 一对 — — 我 父亲 喜欢 结交 名人 ， 杰姬 酷爱 金钱 ， ...</td>\n",
       "    </tr>\n",
       "    <tr>\n",
       "      <th>6</th>\n",
       "      <td>In 2006, Walmart was charged with racism when ...</td>\n",
       "      <td>2006 年 ， 沃尔玛 的 推荐 引擎 竟 将 《 人猿 星球 》 与 马丁 · 路德 ·...</td>\n",
       "    </tr>\n",
       "    <tr>\n",
       "      <th>7</th>\n",
       "      <td>The matte as main copper phase in the cleaning...</td>\n",
       "      <td>通过 电子探针 显微 分析 确定 贫化 渣 中 主要 铜 相为 冰铜 相 。</td>\n",
       "    </tr>\n",
       "    <tr>\n",
       "      <th>8</th>\n",
       "      <td>Have you shined your shoes?</td>\n",
       "      <td>吉姆 靠 给 人 擦皮鞋 为生 。</td>\n",
       "    </tr>\n",
       "    <tr>\n",
       "      <th>9</th>\n",
       "      <td>The Tanning Matrix can be formed by resorcinol...</td>\n",
       "      <td>用 甘氨酸 模拟 胶原 ， 研究 间苯二酚 - 恶唑烷 E 鞣性 基质 的 形成 以及 与 ...</td>\n",
       "    </tr>\n",
       "    <tr>\n",
       "      <th>10</th>\n",
       "      <td>Free delivery for addresses in the city. Can b...</td>\n",
       "      <td>免费 市内 取送 、 免费 提供 打印 译稿 及 电子 文档 各 一份 。</td>\n",
       "    </tr>\n",
       "    <tr>\n",
       "      <th>11</th>\n",
       "      <td>Keele University is renowned for its exciting ...</td>\n",
       "      <td>基尔 大学 以 其 令人兴奋 的 方式 高等教育 ， 美丽 的 校园 ， 强大 的 社区 精...</td>\n",
       "    </tr>\n",
       "    <tr>\n",
       "      <th>12</th>\n",
       "      <td>Among them, there was the herb Tuckahoe grown ...</td>\n",
       "      <td>这些 中药 中 就 有 生长 于 云南 和 贵州 的 茯苓 。</td>\n",
       "    </tr>\n",
       "    <tr>\n",
       "      <th>13</th>\n",
       "      <td>Your willingness to sacrifice countless late n...</td>\n",
       "      <td>或者 是因为 你 愿意 花费 无数 的 夜晚 去 安慰 他们 ？</td>\n",
       "    </tr>\n",
       "    <tr>\n",
       "      <th>14</th>\n",
       "      <td>Callum: OK, we'll find out if you're right at ...</td>\n",
       "      <td>Callum ：     OK ， 答案 将会 在 节目 的 最后 揭晓 ， 到 时 我们 ...</td>\n",
       "    </tr>\n",
       "    <tr>\n",
       "      <th>15</th>\n",
       "      <td>When standing on a level surface, the hind fee...</td>\n",
       "      <td>当 他 站 在 水平 的 地面 上时 ， 后足 爪 位于 身躯 后方 （ 不 在 身躯 正下...</td>\n",
       "    </tr>\n",
       "    <tr>\n",
       "      <th>16</th>\n",
       "      <td>So who won? (Alaska doesn't count, you BOUGHT ...</td>\n",
       "      <td>所以 到底 是 谁 赢 了 ？   阿拉斯加 不算数 ， 那 是 你们 从 俄罗斯 买 的 。</td>\n",
       "    </tr>\n",
       "    <tr>\n",
       "      <th>17</th>\n",
       "      <td>A Minneapolis couple decided to go to Florida ...</td>\n",
       "      <td>在 一个 特别 寒冷 的 冬天 ， 一对 住 在 明尼阿波利斯 市 的 夫妇 决定 去 弗罗...</td>\n",
       "    </tr>\n",
       "    <tr>\n",
       "      <th>18</th>\n",
       "      <td>Dumbledore, the lover of warm socks and sherbe...</td>\n",
       "      <td>热爱 温暖 的 毛 袜子 和 冰冻 柠檬汁 的 邓 布利 多 ， 变 出 柔软 舒适 的 家具 。</td>\n",
       "    </tr>\n",
       "    <tr>\n",
       "      <th>19</th>\n",
       "      <td>To escape with a Ph.D., you must meaningfully ...</td>\n",
       "      <td>要 成功 拿到 博士学位 ， 你 必须 真正 的 扩展 人类 的 知识 边界 。</td>\n",
       "    </tr>\n",
       "    <tr>\n",
       "      <th>20</th>\n",
       "      <td>Barry had been D.C.'s mayor for 12 years befor...</td>\n",
       "      <td>这人 说 ： \" 巴里 在 1990 年 由于 涉及 毒品 而 被 关进 监狱 。   在 ...</td>\n",
       "    </tr>\n",
       "    <tr>\n",
       "      <th>21</th>\n",
       "      <td>Phase out nankin/social security. It's not wor...</td>\n",
       "      <td>逐步 淘汰 社会保障 。 社会保障 并 不起作用 ， 而且 它会 使 我们 的 国家 破产 。</td>\n",
       "    </tr>\n",
       "    <tr>\n",
       "      <th>22</th>\n",
       "      <td>Daniel Radcliffe, who plays Harry, thanked all...</td>\n",
       "      <td>剧中 哈里 的 饰演者 丹尼尔 · 拉德 克里夫 对 当天 出席 首映式 的 所有 影迷 表...</td>\n",
       "    </tr>\n",
       "    <tr>\n",
       "      <th>23</th>\n",
       "      <td>Look at these coasters over here.</td>\n",
       "      <td>看看 这边 的 杯 垫 。</td>\n",
       "    </tr>\n",
       "    <tr>\n",
       "      <th>24</th>\n",
       "      <td>It was tight. so ti lasted a long time .</td>\n",
       "      <td>两队 不分胜负 ， 所以 持续 了 很长 一段时间 。</td>\n",
       "    </tr>\n",
       "    <tr>\n",
       "      <th>25</th>\n",
       "      <td>To use tone, press the YES button. You must us...</td>\n",
       "      <td>本帖 隐藏 的 内容 需要 回复 才 可以 浏览 2300 作为 一个 独立 的 立体声 编...</td>\n",
       "    </tr>\n",
       "    <tr>\n",
       "      <th>26</th>\n",
       "      <td>Fuler is one of 253 schools have credited by t...</td>\n",
       "      <td>富勒 是 由 美国 和 加拿大 神学院 联盟 授权 的 253   家 学院 中 的 一员 。</td>\n",
       "    </tr>\n",
       "    <tr>\n",
       "      <th>27</th>\n",
       "      <td>It shows that vertical stiffener's spaces have...</td>\n",
       "      <td>而 腹板 鼓曲 对纯 弯 和 纯 剪 极限 承载力 的 影响 则 可 不予考虑 。</td>\n",
       "    </tr>\n",
       "    <tr>\n",
       "      <th>28</th>\n",
       "      <td>\"People are embarrassed to admit that's why th...</td>\n",
       "      <td>“ 人们 羞于 说出 他们 遗弃 宠物 的 真正 原因 ， ” 人 道 协会 陪伴 动物 协...</td>\n",
       "    </tr>\n",
       "    <tr>\n",
       "      <th>29</th>\n",
       "      <td>Mars gets hit in this tutorial complete with m...</td>\n",
       "      <td>火星 在 本 教程 中 获得 击中 从 2001 年 太空 漫游 所有 的 一块 完整 的 ...</td>\n",
       "    </tr>\n",
       "    <tr>\n",
       "      <th>...</th>\n",
       "      <td>...</td>\n",
       "      <td>...</td>\n",
       "    </tr>\n",
       "    <tr>\n",
       "      <th>20131</th>\n",
       "      <td>A super-flat submerged nozzle (SEN) was develo...</td>\n",
       "      <td>针对 莱钢 异型 坯 连铸机 实现 全 保护 浇注 的 要求 ， 开发 了 一种 超 扁平 ...</td>\n",
       "    </tr>\n",
       "    <tr>\n",
       "      <th>20132</th>\n",
       "      <td>Talk to your healthcare provider or pediatrici...</td>\n",
       "      <td>如果 你 不 确定 的话 ， 跟 你 的 医疗 服务提供者 或 儿科 医师 讨论一下 ， 并...</td>\n",
       "    </tr>\n",
       "    <tr>\n",
       "      <th>20133</th>\n",
       "      <td>It rained yesterday after it had been dry for ...</td>\n",
       "      <td>在 天旱 了 好几个 月 之后 ， 昨天 下雨 了 。</td>\n",
       "    </tr>\n",
       "    <tr>\n",
       "      <th>20134</th>\n",
       "      <td>However, judicious use of unambiguous wildcard...</td>\n",
       "      <td>但是 ， 明智地 使用 无 二义性 的 通配符 ， 通过 提供 模式 的 兼容性 ， 能够 ...</td>\n",
       "    </tr>\n",
       "    <tr>\n",
       "      <th>20135</th>\n",
       "      <td>Connected with the high-frequency horn driver ...</td>\n",
       "      <td>与 号角 连接 的 高频 驱动 单元 是 一个 频响 平滑 宽广 的 2 “ 侯管 （ 2....</td>\n",
       "    </tr>\n",
       "    <tr>\n",
       "      <th>20136</th>\n",
       "      <td>Do not turn aside those who seek the ways of t...</td>\n",
       "      <td>不该 撇开 那些 寻求 现代 巫术 道路 的 人 ， 只是 为了 想要 提供 或是 缺乏 一...</td>\n",
       "    </tr>\n",
       "    <tr>\n",
       "      <th>20137</th>\n",
       "      <td>Next day he comes by again, and she brags that...</td>\n",
       "      <td>第二天 ， 他 又 来 了 ， 她 嘲笑 根本 没有 梦到 他 。</td>\n",
       "    </tr>\n",
       "    <tr>\n",
       "      <th>20138</th>\n",
       "      <td>May 2010 is the big day, which will feature a ...</td>\n",
       "      <td>2010 年 的 5 月 22 日 这 一天 ， 博物馆 举行 一个 吃 豆 人 的 展览 ...</td>\n",
       "    </tr>\n",
       "    <tr>\n",
       "      <th>20139</th>\n",
       "      <td>For this reason, this modality plays a vital r...</td>\n",
       "      <td>出于 这个 原因 ， 这种 方式 中起 着 至关重要 的 作用 产科 成像 。</td>\n",
       "    </tr>\n",
       "    <tr>\n",
       "      <th>20140</th>\n",
       "      <td>The boys wore black tail coats in mourning for...</td>\n",
       "      <td>男孩 身穿 黑色 燕尾服 为 乔治 三世 服丧 。</td>\n",
       "    </tr>\n",
       "    <tr>\n",
       "      <th>20141</th>\n",
       "      <td>But in central African countries, for example ...</td>\n",
       "      <td>Laporte 说 ， 但是 在 刚果民主共和国 （ DRC ） 等 非洲 中部 国家 ， ...</td>\n",
       "    </tr>\n",
       "    <tr>\n",
       "      <th>20142</th>\n",
       "      <td>For instance, a British short film once shown ...</td>\n",
       "      <td>比如 ， 在 愚人节 那天 ， 曾经 有 一部 英国 短片 较为 详细 地 记录 了 “ 种...</td>\n",
       "    </tr>\n",
       "    <tr>\n",
       "      <th>20143</th>\n",
       "      <td>No doubt it was hard for Joseph, but he said N...</td>\n",
       "      <td>无疑 的 ， 虽然 对 约瑟 很 不 容易 ， 但 他 拒绝 了 波 提乏 妻子 的 引诱 。</td>\n",
       "    </tr>\n",
       "    <tr>\n",
       "      <th>20144</th>\n",
       "      <td>The trickle become a stream; the stream has no...</td>\n",
       "      <td>涓涓   细流 汇成 了 小溪 ， 小溪 现在 已 变成 了 奔腾 的 江河 。</td>\n",
       "    </tr>\n",
       "    <tr>\n",
       "      <th>20145</th>\n",
       "      <td>Becoming a speech language pathologist involve...</td>\n",
       "      <td>成为 语音 语言 病理学家 在 收到 完成 涉及 该 领域 的 硕士学位 九个 月 的 奖学金 。</td>\n",
       "    </tr>\n",
       "    <tr>\n",
       "      <th>20146</th>\n",
       "      <td>There are about 5, 000 so-called sell-side ana...</td>\n",
       "      <td>如今 华尔街 上 有 大约 5 , 000 位 所谓 卖方 分析师 ， 其中 5% 左右 追...</td>\n",
       "    </tr>\n",
       "    <tr>\n",
       "      <th>20147</th>\n",
       "      <td>Also, although in the Technical Attributes Vie...</td>\n",
       "      <td>另外 ， 尽管 在   WBM   的 技术 属性 视图 中 可以 将 任务 指定 为 可 ...</td>\n",
       "    </tr>\n",
       "    <tr>\n",
       "      <th>20148</th>\n",
       "      <td>This convergence is a huge benefit because it ...</td>\n",
       "      <td>这种 聚合 有 很大 的 好处 ， 因为 这 意味着 学习曲线 很 容易 从 一项   AO...</td>\n",
       "    </tr>\n",
       "    <tr>\n",
       "      <th>20149</th>\n",
       "      <td>Plastic plates and cups also make up 0.5 perce...</td>\n",
       "      <td>每年 废弃 的 胶杯 和 胶 碟 也 在 垃圾 中 占据 0 。</td>\n",
       "    </tr>\n",
       "    <tr>\n",
       "      <th>20150</th>\n",
       "      <td>Every 200 yards or so, towers 35 to 40 feet hi...</td>\n",
       "      <td>每隔 200 码 左右 就 修建 起 一座 高 35 至 40 英尺 的 敌台 。</td>\n",
       "    </tr>\n",
       "    <tr>\n",
       "      <th>20151</th>\n",
       "      <td>TIELING (548,000) native Chen Yueling won the ...</td>\n",
       "      <td>铁岭市 （ 548 ， 000 人 ） 。 本地人 陈跃玲 在 1992 年 巴塞罗那奥运会...</td>\n",
       "    </tr>\n",
       "    <tr>\n",
       "      <th>20152</th>\n",
       "      <td>While doing the publicity rounds for Harry Pot...</td>\n",
       "      <td>虽然 这样 做 哈利波 特与 死 圣轮 的 宣传 ， 她 谈到 了 如何 尴尬 是 吻 她 ...</td>\n",
       "    </tr>\n",
       "    <tr>\n",
       "      <th>20153</th>\n",
       "      <td>God is a product of human labor, but then we t...</td>\n",
       "      <td>上帝 是 人类 劳动 的 产物 ， 但 我们 转过身 却说 上帝 独立 地 存在 , 并且 ...</td>\n",
       "    </tr>\n",
       "    <tr>\n",
       "      <th>20154</th>\n",
       "      <td>They lived a room facing the north thirty year...</td>\n",
       "      <td>三十年 前 ， 他 住 在 一个 朝北 的 房间 里 。</td>\n",
       "    </tr>\n",
       "    <tr>\n",
       "      <th>20155</th>\n",
       "      <td>Microsoft System Center “5”, Visual Studio “10...</td>\n",
       "      <td>微软 System   Center “ 5 ” 、 Visual   Studio “ 1...</td>\n",
       "    </tr>\n",
       "    <tr>\n",
       "      <th>20156</th>\n",
       "      <td>Most standard formulae contain neither gluten ...</td>\n",
       "      <td>最 标准 的 公式 含有 谷 朊 粉 ， 也 没有 乳糖 在 临床 有关 款项 。</td>\n",
       "    </tr>\n",
       "    <tr>\n",
       "      <th>20157</th>\n",
       "      <td>Jin Canrong, a professor at Renmin University ...</td>\n",
       "      <td>金灿荣 人民大学 教授 说 解决 两国之间 的 分歧 的 机制 已经 比 以前 更为 强劲 。</td>\n",
       "    </tr>\n",
       "    <tr>\n",
       "      <th>20158</th>\n",
       "      <td>We had 180 dancers flew in from all over Ameri...</td>\n",
       "      <td>我们 吸引 了 180 名 舞者 从 全美 各地 飞来 参加 这次 比赛 。 真的 ，   ...</td>\n",
       "    </tr>\n",
       "    <tr>\n",
       "      <th>20159</th>\n",
       "      <td>Now the production of Skoda Felicia cars mark ...</td>\n",
       "      <td>现在 生产 的 斯柯达 · 弗雷西 亚牌 汽车 的 商标 最 下边 部分 的 桂枝 树叶 ，...</td>\n",
       "    </tr>\n",
       "    <tr>\n",
       "      <th>20160</th>\n",
       "      <td>A spell in The Might and Magic VI that will tu...</td>\n",
       "      <td>一个 魔法门 六中 的 魔法 ， 会 石化 敌人 使 其 不受 任何 伤害 。</td>\n",
       "    </tr>\n",
       "  </tbody>\n",
       "</table>\n",
       "<p>20161 rows × 2 columns</p>\n",
       "</div>"
      ],
      "text/plain": [
       "                                                question  \\\n",
       "0      For greater sharpness, but with a slight incre...   \n",
       "1      He calls the Green Book, his book of teachings...   \n",
       "2      And the light breeze moves me to caress her lo...   \n",
       "3      They have the blood of martyrs is the White to...   \n",
       "4      Finally, the Lakers head to the Motor City to ...   \n",
       "5      \"The perfect match—my father loves names and J...   \n",
       "6      In 2006, Walmart was charged with racism when ...   \n",
       "7      The matte as main copper phase in the cleaning...   \n",
       "8                            Have you shined your shoes?   \n",
       "9      The Tanning Matrix can be formed by resorcinol...   \n",
       "10     Free delivery for addresses in the city. Can b...   \n",
       "11     Keele University is renowned for its exciting ...   \n",
       "12     Among them, there was the herb Tuckahoe grown ...   \n",
       "13     Your willingness to sacrifice countless late n...   \n",
       "14     Callum: OK, we'll find out if you're right at ...   \n",
       "15     When standing on a level surface, the hind fee...   \n",
       "16     So who won? (Alaska doesn't count, you BOUGHT ...   \n",
       "17     A Minneapolis couple decided to go to Florida ...   \n",
       "18     Dumbledore, the lover of warm socks and sherbe...   \n",
       "19     To escape with a Ph.D., you must meaningfully ...   \n",
       "20     Barry had been D.C.'s mayor for 12 years befor...   \n",
       "21     Phase out nankin/social security. It's not wor...   \n",
       "22     Daniel Radcliffe, who plays Harry, thanked all...   \n",
       "23                     Look at these coasters over here.   \n",
       "24              It was tight. so ti lasted a long time .   \n",
       "25     To use tone, press the YES button. You must us...   \n",
       "26     Fuler is one of 253 schools have credited by t...   \n",
       "27     It shows that vertical stiffener's spaces have...   \n",
       "28     \"People are embarrassed to admit that's why th...   \n",
       "29     Mars gets hit in this tutorial complete with m...   \n",
       "...                                                  ...   \n",
       "20131  A super-flat submerged nozzle (SEN) was develo...   \n",
       "20132  Talk to your healthcare provider or pediatrici...   \n",
       "20133  It rained yesterday after it had been dry for ...   \n",
       "20134  However, judicious use of unambiguous wildcard...   \n",
       "20135  Connected with the high-frequency horn driver ...   \n",
       "20136  Do not turn aside those who seek the ways of t...   \n",
       "20137  Next day he comes by again, and she brags that...   \n",
       "20138  May 2010 is the big day, which will feature a ...   \n",
       "20139  For this reason, this modality plays a vital r...   \n",
       "20140  The boys wore black tail coats in mourning for...   \n",
       "20141  But in central African countries, for example ...   \n",
       "20142  For instance, a British short film once shown ...   \n",
       "20143  No doubt it was hard for Joseph, but he said N...   \n",
       "20144  The trickle become a stream; the stream has no...   \n",
       "20145  Becoming a speech language pathologist involve...   \n",
       "20146  There are about 5, 000 so-called sell-side ana...   \n",
       "20147  Also, although in the Technical Attributes Vie...   \n",
       "20148  This convergence is a huge benefit because it ...   \n",
       "20149  Plastic plates and cups also make up 0.5 perce...   \n",
       "20150  Every 200 yards or so, towers 35 to 40 feet hi...   \n",
       "20151  TIELING (548,000) native Chen Yueling won the ...   \n",
       "20152  While doing the publicity rounds for Harry Pot...   \n",
       "20153  God is a product of human labor, but then we t...   \n",
       "20154  They lived a room facing the north thirty year...   \n",
       "20155  Microsoft System Center “5”, Visual Studio “10...   \n",
       "20156  Most standard formulae contain neither gluten ...   \n",
       "20157  Jin Canrong, a professor at Renmin University ...   \n",
       "20158  We had 180 dancers flew in from all over Ameri...   \n",
       "20159  Now the production of Skoda Felicia cars mark ...   \n",
       "20160  A spell in The Might and Magic VI that will tu...   \n",
       "\n",
       "                                                  answer  \n",
       "0      为了 更好 的 锐度 ， 但是 附带 的 会 多一些 颗粒 度 ， 可以 使用 这个 显影剂...  \n",
       "1             他 还 把 宣扬 自己 思想 的 所谓 《 绿皮书 》 称作 “ 新 福音书 ” 。  \n",
       "2                                   微风 推着 我 去 爱抚 它 的 长耳朵  \n",
       "3                                它们 的 先烈 们 的 鲜血 是 白流 了 …  \n",
       "4      最后 ， 在 1 月 31 日 ， 湖人 将 前往 汽车城 底特律 挑战 活塞队 ， 活塞 ...  \n",
       "5      “ 真是 天造地设 的 一对 — — 我 父亲 喜欢 结交 名人 ， 杰姬 酷爱 金钱 ， ...  \n",
       "6      2006 年 ， 沃尔玛 的 推荐 引擎 竟 将 《 人猿 星球 》 与 马丁 · 路德 ·...  \n",
       "7                 通过 电子探针 显微 分析 确定 贫化 渣 中 主要 铜 相为 冰铜 相 。  \n",
       "8                                      吉姆 靠 给 人 擦皮鞋 为生 。  \n",
       "9      用 甘氨酸 模拟 胶原 ， 研究 间苯二酚 - 恶唑烷 E 鞣性 基质 的 形成 以及 与 ...  \n",
       "10                 免费 市内 取送 、 免费 提供 打印 译稿 及 电子 文档 各 一份 。  \n",
       "11     基尔 大学 以 其 令人兴奋 的 方式 高等教育 ， 美丽 的 校园 ， 强大 的 社区 精...  \n",
       "12                       这些 中药 中 就 有 生长 于 云南 和 贵州 的 茯苓 。  \n",
       "13                      或者 是因为 你 愿意 花费 无数 的 夜晚 去 安慰 他们 ？  \n",
       "14     Callum ：     OK ， 答案 将会 在 节目 的 最后 揭晓 ， 到 时 我们 ...  \n",
       "15     当 他 站 在 水平 的 地面 上时 ， 后足 爪 位于 身躯 后方 （ 不 在 身躯 正下...  \n",
       "16       所以 到底 是 谁 赢 了 ？   阿拉斯加 不算数 ， 那 是 你们 从 俄罗斯 买 的 。  \n",
       "17     在 一个 特别 寒冷 的 冬天 ， 一对 住 在 明尼阿波利斯 市 的 夫妇 决定 去 弗罗...  \n",
       "18     热爱 温暖 的 毛 袜子 和 冰冻 柠檬汁 的 邓 布利 多 ， 变 出 柔软 舒适 的 家具 。  \n",
       "19              要 成功 拿到 博士学位 ， 你 必须 真正 的 扩展 人类 的 知识 边界 。  \n",
       "20     这人 说 ： \" 巴里 在 1990 年 由于 涉及 毒品 而 被 关进 监狱 。   在 ...  \n",
       "21       逐步 淘汰 社会保障 。 社会保障 并 不起作用 ， 而且 它会 使 我们 的 国家 破产 。  \n",
       "22     剧中 哈里 的 饰演者 丹尼尔 · 拉德 克里夫 对 当天 出席 首映式 的 所有 影迷 表...  \n",
       "23                                         看看 这边 的 杯 垫 。  \n",
       "24                           两队 不分胜负 ， 所以 持续 了 很长 一段时间 。  \n",
       "25     本帖 隐藏 的 内容 需要 回复 才 可以 浏览 2300 作为 一个 独立 的 立体声 编...  \n",
       "26       富勒 是 由 美国 和 加拿大 神学院 联盟 授权 的 253   家 学院 中 的 一员 。  \n",
       "27             而 腹板 鼓曲 对纯 弯 和 纯 剪 极限 承载力 的 影响 则 可 不予考虑 。  \n",
       "28     “ 人们 羞于 说出 他们 遗弃 宠物 的 真正 原因 ， ” 人 道 协会 陪伴 动物 协...  \n",
       "29     火星 在 本 教程 中 获得 击中 从 2001 年 太空 漫游 所有 的 一块 完整 的 ...  \n",
       "...                                                  ...  \n",
       "20131  针对 莱钢 异型 坯 连铸机 实现 全 保护 浇注 的 要求 ， 开发 了 一种 超 扁平 ...  \n",
       "20132  如果 你 不 确定 的话 ， 跟 你 的 医疗 服务提供者 或 儿科 医师 讨论一下 ， 并...  \n",
       "20133                        在 天旱 了 好几个 月 之后 ， 昨天 下雨 了 。  \n",
       "20134  但是 ， 明智地 使用 无 二义性 的 通配符 ， 通过 提供 模式 的 兼容性 ， 能够 ...  \n",
       "20135  与 号角 连接 的 高频 驱动 单元 是 一个 频响 平滑 宽广 的 2 “ 侯管 （ 2....  \n",
       "20136  不该 撇开 那些 寻求 现代 巫术 道路 的 人 ， 只是 为了 想要 提供 或是 缺乏 一...  \n",
       "20137                  第二天 ， 他 又 来 了 ， 她 嘲笑 根本 没有 梦到 他 。  \n",
       "20138  2010 年 的 5 月 22 日 这 一天 ， 博物馆 举行 一个 吃 豆 人 的 展览 ...  \n",
       "20139            出于 这个 原因 ， 这种 方式 中起 着 至关重要 的 作用 产科 成像 。  \n",
       "20140                          男孩 身穿 黑色 燕尾服 为 乔治 三世 服丧 。  \n",
       "20141  Laporte 说 ， 但是 在 刚果民主共和国 （ DRC ） 等 非洲 中部 国家 ， ...  \n",
       "20142  比如 ， 在 愚人节 那天 ， 曾经 有 一部 英国 短片 较为 详细 地 记录 了 “ 种...  \n",
       "20143    无疑 的 ， 虽然 对 约瑟 很 不 容易 ， 但 他 拒绝 了 波 提乏 妻子 的 引诱 。  \n",
       "20144           涓涓   细流 汇成 了 小溪 ， 小溪 现在 已 变成 了 奔腾 的 江河 。  \n",
       "20145  成为 语音 语言 病理学家 在 收到 完成 涉及 该 领域 的 硕士学位 九个 月 的 奖学金 。  \n",
       "20146  如今 华尔街 上 有 大约 5 , 000 位 所谓 卖方 分析师 ， 其中 5% 左右 追...  \n",
       "20147  另外 ， 尽管 在   WBM   的 技术 属性 视图 中 可以 将 任务 指定 为 可 ...  \n",
       "20148  这种 聚合 有 很大 的 好处 ， 因为 这 意味着 学习曲线 很 容易 从 一项   AO...  \n",
       "20149                   每年 废弃 的 胶杯 和 胶 碟 也 在 垃圾 中 占据 0 。  \n",
       "20150          每隔 200 码 左右 就 修建 起 一座 高 35 至 40 英尺 的 敌台 。  \n",
       "20151  铁岭市 （ 548 ， 000 人 ） 。 本地人 陈跃玲 在 1992 年 巴塞罗那奥运会...  \n",
       "20152  虽然 这样 做 哈利波 特与 死 圣轮 的 宣传 ， 她 谈到 了 如何 尴尬 是 吻 她 ...  \n",
       "20153  上帝 是 人类 劳动 的 产物 ， 但 我们 转过身 却说 上帝 独立 地 存在 , 并且 ...  \n",
       "20154                       三十年 前 ， 他 住 在 一个 朝北 的 房间 里 。  \n",
       "20155  微软 System   Center “ 5 ” 、 Visual   Studio “ 1...  \n",
       "20156          最 标准 的 公式 含有 谷 朊 粉 ， 也 没有 乳糖 在 临床 有关 款项 。  \n",
       "20157    金灿荣 人民大学 教授 说 解决 两国之间 的 分歧 的 机制 已经 比 以前 更为 强劲 。  \n",
       "20158  我们 吸引 了 180 名 舞者 从 全美 各地 飞来 参加 这次 比赛 。 真的 ，   ...  \n",
       "20159  现在 生产 的 斯柯达 · 弗雷西 亚牌 汽车 的 商标 最 下边 部分 的 桂枝 树叶 ，...  \n",
       "20160            一个 魔法门 六中 的 魔法 ， 会 石化 敌人 使 其 不受 任何 伤害 。  \n",
       "\n",
       "[20161 rows x 2 columns]"
      ]
     },
     "execution_count": 10,
     "metadata": {},
     "output_type": "execute_result"
    }
   ],
   "source": [
    "import pandas as pd\n",
    "\n",
    "pd_train = pd.DataFrame(index=range(len(corpus_train['question'])), \n",
    "                        data={'question': corpus_train['question'], \n",
    "                              'answer': corpus_train['answer']},\n",
    "                       columns=['question','answer'])\n",
    "\n",
    "pd_train"
   ]
  },
  {
   "cell_type": "markdown",
   "metadata": {
    "colab_type": "text",
    "id": "teVvkDloAJUy"
   },
   "source": [
    "# 模型訓練"
   ]
  },
  {
   "cell_type": "markdown",
   "metadata": {
    "colab_type": "text",
    "id": "DLKkSo6OBjTo"
   },
   "source": [
    "匯入 pytorch_chatbot 套件  \n",
    "參考: [TRANSLATION WITH A SEQUENCE TO SEQUENCE NETWORK AND ATTENTION](https://pytorch.org/tutorials/intermediate/seq2seq_translation_tutorial.html)"
   ]
  },
  {
   "cell_type": "code",
   "execution_count": 11,
   "metadata": {
    "colab": {
     "base_uri": "https://localhost:8080/",
     "height": 50
    },
    "colab_type": "code",
    "executionInfo": {
     "elapsed": 1052,
     "status": "ok",
     "timestamp": 1556627782497,
     "user": {
      "displayName": "broadcast seke",
      "photoUrl": "https://lh3.googleusercontent.com/-au9Xrs4fCsQ/AAAAAAAAAAI/AAAAAAAAArM/4SGRgg_M288/s64/photo.jpg",
      "userId": "14328858031672786232"
     },
     "user_tz": -480
    },
    "id": "Qd6wOP8nRc9a",
    "outputId": "88c06d6a-05d6-4f26-9522-b49375a4aa58"
   },
   "outputs": [
    {
     "name": "stdout",
     "output_type": "stream",
     "text": [
      "15\n"
     ]
    }
   ],
   "source": [
    "import sys\n",
    "import pytorch_chatbot.main as pcm\n",
    "import pytorch_chatbot.evaluate as pce\n",
    "import pytorch_chatbot.config as pcc\n",
    "\n",
    "print(pcc.MAX_LENGTH)"
   ]
  },
  {
   "cell_type": "markdown",
   "metadata": {
    "colab_type": "text",
    "id": "O5Cg46SuF36E"
   },
   "source": [
    "## 首次訓練"
   ]
  },
  {
   "cell_type": "code",
   "execution_count": null,
   "metadata": {
    "colab": {
     "base_uri": "https://localhost:8080/",
     "height": 390
    },
    "colab_type": "code",
    "executionInfo": {
     "elapsed": 6545,
     "status": "error",
     "timestamp": 1556627792226,
     "user": {
      "displayName": "broadcast seke",
      "photoUrl": "https://lh3.googleusercontent.com/-au9Xrs4fCsQ/AAAAAAAAAAI/AAAAAAAAArM/4SGRgg_M288/s64/photo.jpg",
      "userId": "14328858031672786232"
     },
     "user_tz": -480
    },
    "id": "WpmC1ag2F2CS",
    "outputId": "776d7fb4-f0bb-4fc4-d604-7c251fa9e147"
   },
   "outputs": [
    {
     "name": "stdout",
     "output_type": "stream",
     "text": [
      "Start loading training data ...\n",
      "Saved data not found, start preparing trianing data ...\n",
      "Reading lines...\n",
      "Read 20161 sentence pairs\n",
      "Trimmed to 4263 sentence pairs\n",
      "Counting words...\n",
      "Counted words: 27022\n",
      "Training pairs not found, generating ...\n",
      "Building encoder and decoder ...\n"
     ]
    },
    {
     "name": "stderr",
     "output_type": "stream",
     "text": [
      "  0%|          | 0/6000 [00:00<?, ?it/s]"
     ]
    },
    {
     "name": "stdout",
     "output_type": "stream",
     "text": [
      "Building optimizers ...\n",
      "Initializing ...\n"
     ]
    },
    {
     "name": "stderr",
     "output_type": "stream",
     "text": [
      "  1%|          | 63/6000 [03:29<5:28:20,  3.32s/it]"
     ]
    }
   ],
   "source": [
    "corpusTxt = 'translate2019_20k.txt'\n",
    "######################################\n",
    "\n",
    "#training\n",
    "#import main\n",
    "#!python main.py -tr '../Colab Notebooks/data/corpus60w.txt' -la 1 -hi 512 -lr 0.0001 -it 400 -b 64 -p 100 -s 200 \n",
    "#layer;hidden layer;learning_rate;iteration;batch_size;print/;save/\n",
    "\n",
    "#homePath = '/content/drive/My Drive/Colab Notebooks/seq2seq/'\n",
    "homePath = '/home/seke/jupyter/seq2seq/'\n",
    "dataPath = 'data/'\n",
    "\n",
    "filePath = homePath + dataPath + corpusTxt\n",
    "cmd_line = \"main.py  -tr filePath -la 1 -hi 512 -lr 0.0001 -it 6000 -b 64 -p 100 -s 200\"\n",
    "sys.argv = cmd_line.split()\n",
    "sys.argv[2] = filePath\n",
    "args = pcm.parse()\n",
    "pcm.run(args)"
   ]
  },
  {
   "cell_type": "markdown",
   "metadata": {
    "colab_type": "text",
    "id": "IodSPAyVGDJw"
   },
   "source": [
    "## 後續訓練"
   ]
  },
  {
   "cell_type": "code",
   "execution_count": 2,
   "metadata": {},
   "outputs": [
    {
     "data": {
      "text/plain": [
       "['1000_backup_bidir_model.tar',\n",
       " '1200_backup_bidir_model.tar',\n",
       " '1400_backup_bidir_model.tar',\n",
       " '1600_backup_bidir_model.tar',\n",
       " '1800_backup_bidir_model.tar',\n",
       " '2000_backup_bidir_model.tar',\n",
       " '200_backup_bidir_model.tar',\n",
       " '2200_backup_bidir_model.tar',\n",
       " '2400_backup_bidir_model.tar',\n",
       " '2600_backup_bidir_model.tar',\n",
       " '2800_backup_bidir_model.tar',\n",
       " '3000_backup_bidir_model.tar',\n",
       " '3200_backup_bidir_model.tar',\n",
       " '3400_backup_bidir_model.tar',\n",
       " '3600_backup_bidir_model.tar',\n",
       " '3800_backup_bidir_model.tar',\n",
       " '4000_backup_bidir_model.tar',\n",
       " '400_backup_bidir_model.tar',\n",
       " '4200_backup_bidir_model.tar',\n",
       " '4400_backup_bidir_model.tar',\n",
       " '4600_backup_bidir_model.tar',\n",
       " '4800_backup_bidir_model.tar',\n",
       " '5000_backup_bidir_model.tar',\n",
       " '5200_backup_bidir_model.tar',\n",
       " '5400_backup_bidir_model.tar',\n",
       " '5600_backup_bidir_model.tar',\n",
       " '5800_backup_bidir_model.tar',\n",
       " '6000_backup_bidir_model.tar',\n",
       " '600_backup_bidir_model.tar',\n",
       " '800_backup_bidir_model.tar']"
      ]
     },
     "execution_count": 2,
     "metadata": {},
     "output_type": "execute_result"
    }
   ],
   "source": [
    "corpusTxt = 'translate2019_20k.txt'\n",
    "###############################\n",
    "import os\n",
    "\n",
    "homePath = '/home/seke/jupyter/seq2seq/'\n",
    "dataPath = 'data/'\n",
    "\n",
    "filePath = homePath + dataPath + corpusTxt\n",
    "modelFileDir = homePath + 'save/model/' + corpusTxt[:-4] + '/1-1_512/' \n",
    "\n",
    "sorted(os.listdir(modelFileDir))"
   ]
  },
  {
   "cell_type": "code",
   "execution_count": 3,
   "metadata": {
    "colab": {},
    "colab_type": "code",
    "id": "oXBh5EBmGCTp"
   },
   "outputs": [
    {
     "name": "stdout",
     "output_type": "stream",
     "text": [
      "Start loading training data ...\n",
      "Training pairs not found, generating ...\n",
      "Building encoder and decoder ...\n"
     ]
    },
    {
     "name": "stderr",
     "output_type": "stream",
     "text": [
      "  0%|          | 0/1000 [00:00<?, ?it/s]"
     ]
    },
    {
     "name": "stdout",
     "output_type": "stream",
     "text": [
      "Building optimizers ...\n",
      "Initializing ...\n"
     ]
    },
    {
     "name": "stderr",
     "output_type": "stream",
     "text": [
      " 10%|█         | 100/1000 [05:28<49:24,  3.29s/it]"
     ]
    },
    {
     "name": "stdout",
     "output_type": "stream",
     "text": [
      "6100 87% 1.0433\n"
     ]
    },
    {
     "name": "stderr",
     "output_type": "stream",
     "text": [
      " 20%|██        | 200/1000 [10:55<44:32,  3.34s/it]"
     ]
    },
    {
     "name": "stdout",
     "output_type": "stream",
     "text": [
      "6200 88% 1.0424\n"
     ]
    },
    {
     "name": "stderr",
     "output_type": "stream",
     "text": [
      " 30%|███       | 300/1000 [16:24<39:31,  3.39s/it]"
     ]
    },
    {
     "name": "stdout",
     "output_type": "stream",
     "text": [
      "6300 90% 1.0372\n"
     ]
    },
    {
     "name": "stderr",
     "output_type": "stream",
     "text": [
      " 40%|████      | 400/1000 [21:56<33:21,  3.34s/it]"
     ]
    },
    {
     "name": "stdout",
     "output_type": "stream",
     "text": [
      "6400 91% 1.0367\n"
     ]
    },
    {
     "name": "stderr",
     "output_type": "stream",
     "text": [
      " 50%|█████     | 500/1000 [27:49<29:41,  3.56s/it]"
     ]
    },
    {
     "name": "stdout",
     "output_type": "stream",
     "text": [
      "6500 92% 1.0344\n"
     ]
    },
    {
     "name": "stderr",
     "output_type": "stream",
     "text": [
      " 60%|█████▉    | 599/1000 [33:39<21:43,  3.25s/it]"
     ]
    },
    {
     "name": "stdout",
     "output_type": "stream",
     "text": [
      "6600 94% 1.0341\n"
     ]
    },
    {
     "name": "stderr",
     "output_type": "stream",
     "text": [
      " 70%|███████   | 700/1000 [39:07<15:55,  3.18s/it]"
     ]
    },
    {
     "name": "stdout",
     "output_type": "stream",
     "text": [
      "6700 95% 1.0320\n"
     ]
    },
    {
     "name": "stderr",
     "output_type": "stream",
     "text": [
      " 80%|████████  | 800/1000 [44:29<10:46,  3.23s/it]"
     ]
    },
    {
     "name": "stdout",
     "output_type": "stream",
     "text": [
      "6800 97% 1.0332\n"
     ]
    },
    {
     "name": "stderr",
     "output_type": "stream",
     "text": [
      " 90%|█████████ | 900/1000 [49:51<05:24,  3.24s/it]"
     ]
    },
    {
     "name": "stdout",
     "output_type": "stream",
     "text": [
      "6900 98% 1.0341\n"
     ]
    },
    {
     "name": "stderr",
     "output_type": "stream",
     "text": [
      "100%|██████████| 1000/1000 [55:16<00:00,  3.36s/it]"
     ]
    },
    {
     "name": "stdout",
     "output_type": "stream",
     "text": [
      "7000 100% 1.0340\n"
     ]
    },
    {
     "name": "stderr",
     "output_type": "stream",
     "text": [
      "\n"
     ]
    }
   ],
   "source": [
    "corpusTxt = 'translate2019_20k.txt'\n",
    "from_iteration = 6000\n",
    "###############################\n",
    "\n",
    "#filePath = '/content/drive/My Drive/Colab Notebooks/nlp_jp/data/corpus1218.txt'\n",
    "#filePath = '/content/drive/My Drive/Colab Notebooks/nlp_jp/data/' + seg_corpus_name + '.txt'\n",
    "#modelPath = '/content/drive/My Drive/Colab Notebooks/nlp_jp/save/model/' + seg_corpus_name + '/1-1_512/' + str(iteration) + '_backup_bidir_model.tar'\n",
    "\n",
    "homePath = '/home/seke/jupyter/seq2seq/'\n",
    "dataPath = 'data/'\n",
    "\n",
    "filePath = homePath + dataPath + corpusTxt\n",
    "modelPath = homePath + 'save/model/' + corpusTxt[:-4] + '/1-1_512/' + str(from_iteration) + '_backup_bidir_model.tar'\n",
    "#modelPath = homePath + 'translate2019/' + 'save/model/' + corpusTxt[:-4] + '/1-1_512/' + str(iteration) + '_backup_bidir_model.tar'\n",
    "\n",
    "cmd_line = \"main.py -tr filePath -l modelPath -lr 0.0001 -it 7000 -b 64 -p 100 -s 200\"\n",
    "sys.argv = cmd_line.split()\n",
    "sys.argv[2] = filePath\n",
    "sys.argv[4] = modelPath\n",
    "args = pcm.parse()\n",
    "pcm.run(args)\n"
   ]
  },
  {
   "cell_type": "markdown",
   "metadata": {
    "colab_type": "text",
    "id": "T9CEcFkEA80l"
   },
   "source": [
    "# 模型測試"
   ]
  },
  {
   "cell_type": "markdown",
   "metadata": {
    "colab_type": "text",
    "id": "816vJpvwSsIk"
   },
   "source": [
    "能執行測試的條件有三\n",
    "\n",
    "1.   有安裝torch套件\n",
    "2.   有連結網路硬碟及切換工作目錄為  \n",
    "        /content/drive/My Drive/Colab Notebooks/seq2seq\n",
    "3.   有模型及語料字典檔    \n",
    "        /content/drive/My Drive/Colab Notebooks/seq2seq/data/stc2017_14k.txt     \n",
    "        /content/drive/My Drive/Colab Notebooks/seq2seq/save/training_data/stc2017_14k/400_training_batches_64.tar     \n",
    "        /content/drive/My Drive/Colab Notebooks/seq2seq/save/training_data/stc2017_14k/pairs.tar    \n",
    "        /content/drive/My Drive/Colab Notebooks/seq2seq/save/training_data/stc2017_14k/voc.tar  \n",
    "        /content/drive/My Drive/Colab Notebooks/seq2seq/save/training_data/stc2017_14k/1-1_512/400_backup_bidir_model.tar"
   ]
  },
  {
   "cell_type": "markdown",
   "metadata": {
    "colab_type": "text",
    "id": "SwAyLpIIK2fg"
   },
   "source": [
    "定義載入模型方法predictLoad()及預測答句方法predict()"
   ]
  },
  {
   "cell_type": "code",
   "execution_count": 20,
   "metadata": {
    "colab": {},
    "colab_type": "code",
    "id": "T2TW-zwdDfu8"
   },
   "outputs": [],
   "source": [
    "import torch\n",
    "import random\n",
    "from pytorch_chatbot.train import indexesFromSentence\n",
    "from pytorch_chatbot.load import loadPrepareData\n",
    "from pytorch_chatbot.model import nn, EncoderRNN, LuongAttnDecoderRNN\n",
    "\n",
    "USE_CUDA = torch.cuda.is_available()\n",
    "device = torch.device(\"cuda\" if USE_CUDA else \"cpu\")\n",
    "\n",
    "#runTest(n_layers, hidden_size, reverse, modelFile, beam_size, inp, corpus):\n",
    "\n",
    "def predictLoad(corpus, modelFile, n_layers=1, hidden_size=512):\n",
    "  torch.set_grad_enabled(False)\n",
    "  voc, pairs = loadPrepareData(corpus)\n",
    "  embedding = nn.Embedding(voc.n_words, hidden_size)\n",
    "  encoder = EncoderRNN(voc.n_words, hidden_size, embedding, n_layers)\n",
    "  attn_model = 'dot'\n",
    "  decoder = LuongAttnDecoderRNN(attn_model, embedding, hidden_size, voc.n_words, n_layers)\n",
    "\n",
    "  checkpoint = torch.load(modelFile)\n",
    "  encoder.load_state_dict(checkpoint['en'])\n",
    "  decoder.load_state_dict(checkpoint['de'])\n",
    "\n",
    "  # train mode set to false, effect only on dropout, batchNorm\n",
    "  encoder.train(False)\n",
    "  decoder.train(False)\n",
    "\n",
    "  encoder = encoder.to(device)\n",
    "  decoder = decoder.to(device)\n",
    "  \n",
    "  return encoder, decoder, voc\n",
    "\n",
    "def predict(encoder, decoder, voc, question, top):\n",
    "  #question = '今天'\n",
    "  #question = '现在 刷 朋友 圈 最大 的 快乐 就是 看 代购 们 各种 直播 '\n",
    "  result_list = []\n",
    "\n",
    "  if(top==1):\n",
    "    beam_size = 1\n",
    "    output_words, _ = pce.evaluate(encoder, decoder, voc, question, beam_size)\n",
    "    answer = ' '.join(output_words)\n",
    "    answer = answer.replace('<EOS>','')\n",
    "    result_list.append(answer)\n",
    "    #print(output_words)\n",
    "  else:\n",
    "    beam_size = top\n",
    "    output_words_list = pce.evaluate(encoder, decoder, voc, question, beam_size)\n",
    "    count = 0;\n",
    "    for output_words, score in output_words_list:\n",
    "      count = count + 1\n",
    "      if(count <= top):\n",
    "        output_sentence = ' '.join(output_words)\n",
    "        output_sentence = output_sentence.replace('<EOS>','')\n",
    "        result_list.append(output_sentence)\n",
    "        #print(\" {:.3f} < {}\".format(score, output_sentence))\n",
    "  \n",
    "  return result_list\n",
    "\n",
    "def filter(voc, question):\n",
    "  words = question.split()\n",
    "  result = []\n",
    "  for w in words:\n",
    "    if(w in voc.word2index):\n",
    "      result.append(w) \n",
    "  return ' '.join(result)"
   ]
  },
  {
   "cell_type": "markdown",
   "metadata": {
    "colab_type": "text",
    "id": "aPQnTjymG8Pw"
   },
   "source": [
    "設定參數，呼叫方法，載入模型，進行答句預測"
   ]
  },
  {
   "cell_type": "code",
   "execution_count": 22,
   "metadata": {
    "colab": {
     "base_uri": "https://localhost:8080/",
     "height": 13634
    },
    "colab_type": "code",
    "executionInfo": {
     "elapsed": 51361,
     "status": "ok",
     "timestamp": 1542768861814,
     "user": {
      "displayName": "broadcast seke",
      "photoUrl": "https://lh3.googleusercontent.com/-au9Xrs4fCsQ/AAAAAAAAAAI/AAAAAAAAArM/4SGRgg_M288/s64/photo.jpg",
      "userId": "14328858031672786232"
     },
     "user_tz": -480
    },
    "id": "94jLQ1qo3cPU",
    "outputId": "bb1d683b-71dd-4099-c1a6-0c676c6d6b20"
   },
   "outputs": [
    {
     "name": "stdout",
     "output_type": "stream",
     "text": [
      "Start loading training data ...\n"
     ]
    }
   ],
   "source": [
    "corpusTxt = 'translate2019_20k.txt'\n",
    "iteration = 6000\n",
    "top = 2\n",
    "###################################\n",
    "\n",
    "n_layers = 1\n",
    "hidden_size = 512\n",
    "\n",
    "#reverse = false\n",
    "# /content/drive/My Drive/Colab Notebooks/stc3/save/training_data/corpus2018/voc.tar, pairs.tar, ..training_batches_64.tar\n",
    "\n",
    "#homePath = '/content/drive/My Drive/Colab Notebooks/seq2seq/'\n",
    "homePath = '/home/seke/jupyter/seq2seq/'\n",
    "modelFile = homePath + 'save/model/' + corpusTxt[:-4] + '/1-1_512/' + str(iteration) + '_backup_bidir_model.tar'\n",
    "\n",
    "en, de, voc = predictLoad(corpusTxt[:-4], modelFile, n_layers, hidden_size)\n"
   ]
  },
  {
   "cell_type": "markdown",
   "metadata": {
    "colab_type": "text",
    "id": "gT0dVRabDuqk"
   },
   "source": [
    "## 批次測試"
   ]
  },
  {
   "cell_type": "code",
   "execution_count": 23,
   "metadata": {},
   "outputs": [],
   "source": [
    "corpusTxt = 'stc2017_14k.txt'\n",
    "######################################\n",
    "import codecs\n",
    "\n",
    "#homePath = '/content/drive/My Drive/Colab Notebooks/seq2seq/'\n",
    "homePath = '/home/seke/jupyter/seq2seq/'\n",
    "dataPath = 'data/'\n",
    "\n",
    "filePath = homePath + dataPath + corpusTxt\n",
    "\n",
    "with codecs.open(filePath, \"r\", \"utf-8\") as f:\n",
    "    corpus_raw = f.readlines()\n",
    "\n",
    "corpus_raw2 = [line.strip() for line in corpus_raw]\n",
    "\n",
    "corpus_test = {}\n",
    "corpus_test['question'] = corpus_raw2[0::2]\n",
    "corpus_test['answer'] = corpus_raw2[1::2]"
   ]
  },
  {
   "cell_type": "code",
   "execution_count": 29,
   "metadata": {
    "colab": {},
    "colab_type": "code",
    "id": "8uok_-HvDsKy"
   },
   "outputs": [
    {
     "name": "stdout",
     "output_type": "stream",
     "text": [
      "  1, question: '就是 太 小 了 ， 哎'\n",
      "       filter: '就是 太 小 了 ， 哎'\n",
      "\t'所以 我 霸占 了 两 个 位置 ~ 哈 哈哈 ~ '\n",
      "\t'所以 我 霸占 了 两 个 位置 ~ 哈 哈哈 。 '\n",
      "\t'所以 我 霸占 了 两 个 位置 ~ 哈 哈哈 … '\n",
      "\t'所以 我 霸占 了 两 个 位置 ~ 哈 哈哈 色 了 '\n",
      "\t'所以 我 霸占 了 两 个 位置 ~ 哈 哈哈 ~ ~ '\n",
      "  2, question: '作弊'\n",
      "       filter: '作弊'\n",
      "\t'我 这 不 叫 作弊 ， 称为 “ 观望 ” '\n",
      "\t'我 这 不 叫 作弊 ， 称为 “ 观望 地 '\n",
      "\t'我 这 不 叫 作弊 ， 称为 “ ” ” '\n",
      "\t'我 这 不 叫 作弊 ， 要不 怎么 吓 死 我 ！ '\n",
      "\t'我 这 不 叫 作弊 ， 要不 怎么 吓 死 你 '\n",
      "  3, question: '花 姐 看 啊 快乐 大本营 。 。 ~'\n",
      "       filter: '花 姐 看 啊 快乐 大本营 。 。 ~'\n",
      "\t'哈哈 ， 花 姐 快 睡 了 哈 。 晚安 ， 爱 你 '\n",
      "\t'哈哈 ， 花 姐 快 睡 了 哈 。 晚安 ， 爱 '\n",
      "\t'哈哈 ， 花 姐 快 睡 了 哈 。 晚安 '\n",
      "\t'哈哈 ， 花 姐 快 睡 了 哈 。 晚安 ， 爱 你们 '\n",
      "\t'哈哈 ， 花 姐 快 睡 了 。 晚安 ， 爱 你 '\n",
      "  4, question: '我 呢'\n",
      "       filter: '我 呢'\n",
      "\t'哈哈 ， 算 上 你 ， 她 遇上 两 个 了 ！ '\n",
      "\t'哈哈 ， 算 上 你 ， 她 遇上 两 个 了 '\n",
      "\t'哈哈 ， 算 上 你 ， 她 遇上 两 个 了 。 '\n",
      "\t'哈哈 ， 算 啊 ， 下次 再 组织 帮 你 。 '\n",
      "\t'哈哈 ， 算 上 你 ， 她 遇上 两 碗 了 ！ '\n",
      "  5, question: '哈哈 你们 还有 骑行 活动 的 啊 。'\n",
      "       filter: '哈哈 你们 还有 骑行 活动 的 啊 。'\n",
      "\t'是 呀 哈哈 ！ '\n",
      "\t'是 呀 是 呀 ！ 哈哈 … '\n",
      "\t'是 呀 是 呀 ！ 哈哈 '\n",
      "\t'是 但是 太 皮 了 。 哈哈 ！ '\n",
      "\t'是 呀 是 呀 哈哈 ！ '\n",
      "  6, question: '看来 你 是 一个 真 性情 之 人 ， 敢 爱 敢 恨 的 那种 ！'\n",
      "       filter: '看来 你 是 一个 真 性情 之 人 ， 敢 爱 敢 恨 的 那种 ！'\n",
      "\t'哈哈 。 '\n",
      "\t'哈哈 。 好 吧 。 '\n",
      "\t'哈哈 。 今天 早点 休息 的 是 孩子 伤 不 起 '\n",
      "\t'哈哈 。 今天 早点 休息 。 '\n",
      "\t'哈哈 。 今天 要 不要 不要 。 你 比 我 的 。 '\n",
      "  7, question: '外国 的 天空 很 蓝 ！ 晚上 多 星星 吗 ！ ！'\n",
      "       filter: '外国 的 天空 很 蓝 ！ 晚上 多 星星 吗 ！ ！'\n",
      "\t'除了 夏威夷 晚上 看到 明亮 的 星星 ， 其他 时间 没有 留意 哦 '\n",
      "\t'除了 夏威夷 晚上 看到 明亮 的 星星 '\n",
      "\t'除了 夏威夷 晚上 看到 明亮 的 星星 ， 其他 时间 没有 留意 留意 哦 '\n",
      "\t'除了 夏威夷 晚上 看到 明亮 的 星星 ， 其他 时间 没有 留意 啊 '\n",
      "\t'除了 夏威夷 晚上 看到 明亮 的 星星 ， 其他 时间 没有 留意 留意 '\n",
      "  8, question: '多 吃 不 长 肉 , 有 这么 神奇 的 东东 吗 ? 37'\n",
      "       filter: '多 吃 不 长 肉 , 有 这么 神奇 的 东东 吗 ? 37'\n",
      "\t'西湖 银 泰 礼券 吃 多 了 不 长 肉 '\n",
      "\t'西湖 银 泰 礼券 多 吃 多 了 不 长 肉 '\n",
      "\t'西湖 银 泰 礼券 吃 多 了 不 就 一样 '\n",
      "\t'西湖 银 泰 礼券 吃 多 了 不 一样 '\n",
      "\t'西湖 银 泰 礼券 吃 多 了 不 一样 长 肉 '\n",
      "  9, question: '老 南宁 已 走 远'\n",
      "       filter: '老 南宁 已 走 远'\n",
      "\t'像 于丹 这样 的 学者 ， 只能 使 国学 走向 空虚 ！ '\n",
      "\t'像 于丹 这样 的 学者 ， 只能 使 国学 走向 空虚 '\n",
      "\t'像 于丹 这样 的 学者 ， 只能 牺牲 我 自己 了 '\n",
      "\t'像 于丹 这样 的 学者 ， 只能 使 国学 空虚 ！ '\n",
      "\t'像 于丹 这样 的 学者 ， 只能 使 国学 空虚 寂寞 ！ '\n",
      " 10, question: '打来 木 。'\n",
      "       filter: '打来 木 。'\n",
      "\t'好 啊 。 我 号码 又 忘 了 。 ！ '\n",
      "\t'好 啊 。 我 号码 又 忘 了 ！ ！ '\n",
      "\t'好 啊 。 我 号码 又 忘 了 。 ！ ！ '\n",
      "\t'好 啊 ， 我 羡慕 嫉妒 恨 了 '\n",
      "\t'好 啊 。 我 号码 又 忘 了 ！ ！ ！ '\n"
     ]
    }
   ],
   "source": [
    "test_no = 10\n",
    "top = 5\n",
    "#######################################\n",
    "corpus_test2 = {'question':corpus_test['question'][0:test_no], 'answer':corpus_test['answer'][0:test_no]}\n",
    "count=0\n",
    "answer_list = []\n",
    "for question in corpus_test2['question']:\n",
    "  count = count + 1\n",
    "  question2 = filter(voc, question)\n",
    "  result = predict(en, de, voc, question2, top)\n",
    "  print(\"%3d, question: '%s'\\n       filter: '%s'\" % (count,question,question2))\n",
    "  answer_list.append(result[0])\n",
    "  for answer in result:\n",
    "    print(\"\\t'%s'\" % (answer))"
   ]
  },
  {
   "cell_type": "markdown",
   "metadata": {
    "colab_type": "text",
    "id": "d6749wBiMC4d"
   },
   "source": [
    "以表格呈現模型預測的第1答句"
   ]
  },
  {
   "cell_type": "code",
   "execution_count": 31,
   "metadata": {
    "colab": {
     "base_uri": "https://localhost:8080/",
     "height": 1289
    },
    "colab_type": "code",
    "executionInfo": {
     "elapsed": 940,
     "status": "ok",
     "timestamp": 1542768875244,
     "user": {
      "displayName": "broadcast seke",
      "photoUrl": "https://lh3.googleusercontent.com/-au9Xrs4fCsQ/AAAAAAAAAAI/AAAAAAAAArM/4SGRgg_M288/s64/photo.jpg",
      "userId": "14328858031672786232"
     },
     "user_tz": -480
    },
    "id": "e6oJj6gu7FIa",
    "outputId": "6658d55e-d2c3-49da-86b4-013d919974d9"
   },
   "outputs": [
    {
     "data": {
      "text/html": [
       "<div>\n",
       "<style scoped>\n",
       "    .dataframe tbody tr th:only-of-type {\n",
       "        vertical-align: middle;\n",
       "    }\n",
       "\n",
       "    .dataframe tbody tr th {\n",
       "        vertical-align: top;\n",
       "    }\n",
       "\n",
       "    .dataframe thead th {\n",
       "        text-align: right;\n",
       "    }\n",
       "</style>\n",
       "<table border=\"1\" class=\"dataframe\">\n",
       "  <thead>\n",
       "    <tr style=\"text-align: right;\">\n",
       "      <th></th>\n",
       "      <th>question</th>\n",
       "      <th>answer</th>\n",
       "    </tr>\n",
       "  </thead>\n",
       "  <tbody>\n",
       "    <tr>\n",
       "      <th>0</th>\n",
       "      <td>就是 太 小 了 ， 哎</td>\n",
       "      <td>所以 我 霸占 了 两 个 位置 ~ 哈 哈哈 ~</td>\n",
       "    </tr>\n",
       "    <tr>\n",
       "      <th>1</th>\n",
       "      <td>作弊</td>\n",
       "      <td>我 这 不 叫 作弊 ， 称为 “ 观望 ”</td>\n",
       "    </tr>\n",
       "    <tr>\n",
       "      <th>2</th>\n",
       "      <td>花 姐 看 啊 快乐 大本营 。 。 ~</td>\n",
       "      <td>哈哈 ， 花 姐 快 睡 了 哈 。 晚安 ， 爱 你</td>\n",
       "    </tr>\n",
       "    <tr>\n",
       "      <th>3</th>\n",
       "      <td>我 呢</td>\n",
       "      <td>哈哈 ， 算 上 你 ， 她 遇上 两 个 了 ！</td>\n",
       "    </tr>\n",
       "    <tr>\n",
       "      <th>4</th>\n",
       "      <td>哈哈 你们 还有 骑行 活动 的 啊 。</td>\n",
       "      <td>是 呀 哈哈 ！</td>\n",
       "    </tr>\n",
       "    <tr>\n",
       "      <th>5</th>\n",
       "      <td>看来 你 是 一个 真 性情 之 人 ， 敢 爱 敢 恨 的 那种 ！</td>\n",
       "      <td>哈哈 。</td>\n",
       "    </tr>\n",
       "    <tr>\n",
       "      <th>6</th>\n",
       "      <td>外国 的 天空 很 蓝 ！ 晚上 多 星星 吗 ！ ！</td>\n",
       "      <td>除了 夏威夷 晚上 看到 明亮 的 星星 ， 其他 时间 没有 留意 哦</td>\n",
       "    </tr>\n",
       "    <tr>\n",
       "      <th>7</th>\n",
       "      <td>多 吃 不 长 肉 , 有 这么 神奇 的 东东 吗 ? 37</td>\n",
       "      <td>西湖 银 泰 礼券 吃 多 了 不 长 肉</td>\n",
       "    </tr>\n",
       "    <tr>\n",
       "      <th>8</th>\n",
       "      <td>老 南宁 已 走 远</td>\n",
       "      <td>像 于丹 这样 的 学者 ， 只能 使 国学 走向 空虚 ！</td>\n",
       "    </tr>\n",
       "    <tr>\n",
       "      <th>9</th>\n",
       "      <td>打来 木 。</td>\n",
       "      <td>好 啊 。 我 号码 又 忘 了 。 ！</td>\n",
       "    </tr>\n",
       "  </tbody>\n",
       "</table>\n",
       "</div>"
      ],
      "text/plain": [
       "                              question                                 answer\n",
       "0                         就是 太 小 了 ， 哎             所以 我 霸占 了 两 个 位置 ~ 哈 哈哈 ~ \n",
       "1                                   作弊                我 这 不 叫 作弊 ， 称为 “ 观望 ” \n",
       "2                 花 姐 看 啊 快乐 大本营 。 。 ~           哈哈 ， 花 姐 快 睡 了 哈 。 晚安 ， 爱 你 \n",
       "3                                  我 呢             哈哈 ， 算 上 你 ， 她 遇上 两 个 了 ！ \n",
       "4                 哈哈 你们 还有 骑行 活动 的 啊 。                              是 呀 哈哈 ！ \n",
       "5  看来 你 是 一个 真 性情 之 人 ， 敢 爱 敢 恨 的 那种 ！                                  哈哈 。 \n",
       "6          外国 的 天空 很 蓝 ！ 晚上 多 星星 吗 ！ ！  除了 夏威夷 晚上 看到 明亮 的 星星 ， 其他 时间 没有 留意 哦 \n",
       "7      多 吃 不 长 肉 , 有 这么 神奇 的 东东 吗 ? 37                 西湖 银 泰 礼券 吃 多 了 不 长 肉 \n",
       "8                           老 南宁 已 走 远        像 于丹 这样 的 学者 ， 只能 使 国学 走向 空虚 ！ \n",
       "9                               打来 木 。                  好 啊 。 我 号码 又 忘 了 。 ！ "
      ]
     },
     "execution_count": 31,
     "metadata": {},
     "output_type": "execute_result"
    }
   ],
   "source": [
    "pd_test2 = pd.DataFrame(index=range(len(corpus_test2['question'])), \n",
    "                        data={'question':corpus_test2['question'], \n",
    "                              'answer':answer_list},\n",
    "                       columns=['question','answer'])\n",
    "\n",
    "pd_test2"
   ]
  },
  {
   "cell_type": "markdown",
   "metadata": {
    "colab_type": "text",
    "id": "PtTh2UBoD1T4"
   },
   "source": [
    "## 手動測試"
   ]
  },
  {
   "cell_type": "code",
   "execution_count": 33,
   "metadata": {
    "colab": {},
    "colab_type": "code",
    "id": "uIN8hmwkD5ZX"
   },
   "outputs": [
    {
     "name": "stdout",
     "output_type": "stream",
     "text": [
      " 10, question: '终于 有 酒 喝 了 ! 希望 不会 喝 趴下'\n",
      "       filter: '终于 有 酒 喝 了 ! 希望 不会 喝 趴下'\n",
      "\t'嘿嘿 当然 啦 。 '\n",
      "\t'嘿嘿 当然 啦 '\n",
      "\t'嘿嘿 晚上 喝 到 晚上 '\n",
      "\t'嘿嘿 。 。 '\n",
      "\t'嘿嘿 晚上 喝 到 晚上 你 翻 就 翻 来 了 ！ '\n"
     ]
    }
   ],
   "source": [
    "question = '终于 有 酒 喝 了 ! 希望 不会 喝 趴下'\n",
    "#########################################\n",
    "\n",
    "question2 = filter(voc, question)\n",
    "result = predict(en, de, voc, question2, top)\n",
    "print(\"%3d, question: '%s'\\n       filter: '%s'\" % (count,question,question2))\n",
    "#answer_list.append(result[0])\n",
    "for answer in result:\n",
    "    print(\"\\t'%s'\" % (answer))"
   ]
  },
  {
   "cell_type": "code",
   "execution_count": 34,
   "metadata": {
    "colab": {},
    "colab_type": "code",
    "id": "P2m4H9UWENOV"
   },
   "outputs": [
    {
     "name": "stdout",
     "output_type": "stream",
     "text": [
      "Start loading training data ...\n",
      "Segmented Question Input: 喝 到 晚上\n",
      "source: '喝 到 晚上'\n",
      "filter: '喝 到 晚上'\n",
      "\t'有 没有 什么 方法 能 尽快 买 到 '\n",
      "\t'有 没有 什么 方法 能 尽快 买 回来 '\n"
     ]
    },
    {
     "ename": "KeyboardInterrupt",
     "evalue": "",
     "output_type": "error",
     "traceback": [
      "\u001b[0;31m---------------------------------------------------------------------------\u001b[0m",
      "\u001b[0;31mKeyboardInterrupt\u001b[0m                         Traceback (most recent call last)",
      "\u001b[0;32m~/.conda/envs/chatbot/lib/python3.6/site-packages/ipykernel/kernelbase.py\u001b[0m in \u001b[0;36m_input_request\u001b[0;34m(self, prompt, ident, parent, password)\u001b[0m\n\u001b[1;32m    877\u001b[0m             \u001b[0;32mtry\u001b[0m\u001b[0;34m:\u001b[0m\u001b[0;34m\u001b[0m\u001b[0;34m\u001b[0m\u001b[0m\n\u001b[0;32m--> 878\u001b[0;31m                 \u001b[0mident\u001b[0m\u001b[0;34m,\u001b[0m \u001b[0mreply\u001b[0m \u001b[0;34m=\u001b[0m \u001b[0mself\u001b[0m\u001b[0;34m.\u001b[0m\u001b[0msession\u001b[0m\u001b[0;34m.\u001b[0m\u001b[0mrecv\u001b[0m\u001b[0;34m(\u001b[0m\u001b[0mself\u001b[0m\u001b[0;34m.\u001b[0m\u001b[0mstdin_socket\u001b[0m\u001b[0;34m,\u001b[0m \u001b[0;36m0\u001b[0m\u001b[0;34m)\u001b[0m\u001b[0;34m\u001b[0m\u001b[0;34m\u001b[0m\u001b[0m\n\u001b[0m\u001b[1;32m    879\u001b[0m             \u001b[0;32mexcept\u001b[0m \u001b[0mException\u001b[0m\u001b[0;34m:\u001b[0m\u001b[0;34m\u001b[0m\u001b[0;34m\u001b[0m\u001b[0m\n",
      "\u001b[0;32m~/.conda/envs/chatbot/lib/python3.6/site-packages/jupyter_client/session.py\u001b[0m in \u001b[0;36mrecv\u001b[0;34m(self, socket, mode, content, copy)\u001b[0m\n\u001b[1;32m    802\u001b[0m         \u001b[0;32mtry\u001b[0m\u001b[0;34m:\u001b[0m\u001b[0;34m\u001b[0m\u001b[0;34m\u001b[0m\u001b[0m\n\u001b[0;32m--> 803\u001b[0;31m             \u001b[0mmsg_list\u001b[0m \u001b[0;34m=\u001b[0m \u001b[0msocket\u001b[0m\u001b[0;34m.\u001b[0m\u001b[0mrecv_multipart\u001b[0m\u001b[0;34m(\u001b[0m\u001b[0mmode\u001b[0m\u001b[0;34m,\u001b[0m \u001b[0mcopy\u001b[0m\u001b[0;34m=\u001b[0m\u001b[0mcopy\u001b[0m\u001b[0;34m)\u001b[0m\u001b[0;34m\u001b[0m\u001b[0;34m\u001b[0m\u001b[0m\n\u001b[0m\u001b[1;32m    804\u001b[0m         \u001b[0;32mexcept\u001b[0m \u001b[0mzmq\u001b[0m\u001b[0;34m.\u001b[0m\u001b[0mZMQError\u001b[0m \u001b[0;32mas\u001b[0m \u001b[0me\u001b[0m\u001b[0;34m:\u001b[0m\u001b[0;34m\u001b[0m\u001b[0;34m\u001b[0m\u001b[0m\n",
      "\u001b[0;32m~/.conda/envs/chatbot/lib/python3.6/site-packages/zmq/sugar/socket.py\u001b[0m in \u001b[0;36mrecv_multipart\u001b[0;34m(self, flags, copy, track)\u001b[0m\n\u001b[1;32m    469\u001b[0m         \"\"\"\n\u001b[0;32m--> 470\u001b[0;31m         \u001b[0mparts\u001b[0m \u001b[0;34m=\u001b[0m \u001b[0;34m[\u001b[0m\u001b[0mself\u001b[0m\u001b[0;34m.\u001b[0m\u001b[0mrecv\u001b[0m\u001b[0;34m(\u001b[0m\u001b[0mflags\u001b[0m\u001b[0;34m,\u001b[0m \u001b[0mcopy\u001b[0m\u001b[0;34m=\u001b[0m\u001b[0mcopy\u001b[0m\u001b[0;34m,\u001b[0m \u001b[0mtrack\u001b[0m\u001b[0;34m=\u001b[0m\u001b[0mtrack\u001b[0m\u001b[0;34m)\u001b[0m\u001b[0;34m]\u001b[0m\u001b[0;34m\u001b[0m\u001b[0;34m\u001b[0m\u001b[0m\n\u001b[0m\u001b[1;32m    471\u001b[0m         \u001b[0;31m# have first part already, only loop while more to receive\u001b[0m\u001b[0;34m\u001b[0m\u001b[0;34m\u001b[0m\u001b[0;34m\u001b[0m\u001b[0m\n",
      "\u001b[0;32mzmq/backend/cython/socket.pyx\u001b[0m in \u001b[0;36mzmq.backend.cython.socket.Socket.recv\u001b[0;34m()\u001b[0m\n",
      "\u001b[0;32mzmq/backend/cython/socket.pyx\u001b[0m in \u001b[0;36mzmq.backend.cython.socket.Socket.recv\u001b[0;34m()\u001b[0m\n",
      "\u001b[0;32mzmq/backend/cython/socket.pyx\u001b[0m in \u001b[0;36mzmq.backend.cython.socket._recv_copy\u001b[0;34m()\u001b[0m\n",
      "\u001b[0;32m~/.conda/envs/chatbot/lib/python3.6/site-packages/zmq/backend/cython/checkrc.pxd\u001b[0m in \u001b[0;36mzmq.backend.cython.checkrc._check_rc\u001b[0;34m()\u001b[0m\n",
      "\u001b[0;31mKeyboardInterrupt\u001b[0m: ",
      "\nDuring handling of the above exception, another exception occurred:\n",
      "\u001b[0;31mKeyboardInterrupt\u001b[0m                         Traceback (most recent call last)",
      "\u001b[0;32m<ipython-input-34-3e7539084c3a>\u001b[0m in \u001b[0;36m<module>\u001b[0;34m\u001b[0m\n\u001b[1;32m     19\u001b[0m \u001b[0;34m\u001b[0m\u001b[0m\n\u001b[1;32m     20\u001b[0m \u001b[0;32mwhile\u001b[0m\u001b[0;34m(\u001b[0m\u001b[0;32mTrue\u001b[0m\u001b[0;34m)\u001b[0m\u001b[0;34m:\u001b[0m\u001b[0;34m\u001b[0m\u001b[0;34m\u001b[0m\u001b[0m\n\u001b[0;32m---> 21\u001b[0;31m   \u001b[0msource\u001b[0m \u001b[0;34m=\u001b[0m \u001b[0minput\u001b[0m\u001b[0;34m(\u001b[0m\u001b[0;34m\"Segmented Question Input: \"\u001b[0m\u001b[0;34m)\u001b[0m\u001b[0;34m\u001b[0m\u001b[0;34m\u001b[0m\u001b[0m\n\u001b[0m\u001b[1;32m     22\u001b[0m   \u001b[0;31m#seg_source = mecab_parse_space(source)\u001b[0m\u001b[0;34m\u001b[0m\u001b[0;34m\u001b[0m\u001b[0;34m\u001b[0m\u001b[0m\n\u001b[1;32m     23\u001b[0m   \u001b[0mhand_test\u001b[0m\u001b[0;34m(\u001b[0m\u001b[0mvoc\u001b[0m\u001b[0;34m,\u001b[0m\u001b[0men\u001b[0m\u001b[0;34m,\u001b[0m\u001b[0mde\u001b[0m\u001b[0;34m,\u001b[0m\u001b[0mtop\u001b[0m\u001b[0;34m,\u001b[0m\u001b[0msource\u001b[0m\u001b[0;34m)\u001b[0m\u001b[0;34m\u001b[0m\u001b[0;34m\u001b[0m\u001b[0m\n",
      "\u001b[0;32m~/.conda/envs/chatbot/lib/python3.6/site-packages/ipykernel/kernelbase.py\u001b[0m in \u001b[0;36mraw_input\u001b[0;34m(self, prompt)\u001b[0m\n\u001b[1;32m    851\u001b[0m             \u001b[0mself\u001b[0m\u001b[0;34m.\u001b[0m\u001b[0m_parent_ident\u001b[0m\u001b[0;34m,\u001b[0m\u001b[0;34m\u001b[0m\u001b[0;34m\u001b[0m\u001b[0m\n\u001b[1;32m    852\u001b[0m             \u001b[0mself\u001b[0m\u001b[0;34m.\u001b[0m\u001b[0m_parent_header\u001b[0m\u001b[0;34m,\u001b[0m\u001b[0;34m\u001b[0m\u001b[0;34m\u001b[0m\u001b[0m\n\u001b[0;32m--> 853\u001b[0;31m             \u001b[0mpassword\u001b[0m\u001b[0;34m=\u001b[0m\u001b[0;32mFalse\u001b[0m\u001b[0;34m,\u001b[0m\u001b[0;34m\u001b[0m\u001b[0;34m\u001b[0m\u001b[0m\n\u001b[0m\u001b[1;32m    854\u001b[0m         )\n\u001b[1;32m    855\u001b[0m \u001b[0;34m\u001b[0m\u001b[0m\n",
      "\u001b[0;32m~/.conda/envs/chatbot/lib/python3.6/site-packages/ipykernel/kernelbase.py\u001b[0m in \u001b[0;36m_input_request\u001b[0;34m(self, prompt, ident, parent, password)\u001b[0m\n\u001b[1;32m    881\u001b[0m             \u001b[0;32mexcept\u001b[0m \u001b[0mKeyboardInterrupt\u001b[0m\u001b[0;34m:\u001b[0m\u001b[0;34m\u001b[0m\u001b[0;34m\u001b[0m\u001b[0m\n\u001b[1;32m    882\u001b[0m                 \u001b[0;31m# re-raise KeyboardInterrupt, to truncate traceback\u001b[0m\u001b[0;34m\u001b[0m\u001b[0;34m\u001b[0m\u001b[0;34m\u001b[0m\u001b[0m\n\u001b[0;32m--> 883\u001b[0;31m                 \u001b[0;32mraise\u001b[0m \u001b[0mKeyboardInterrupt\u001b[0m\u001b[0;34m\u001b[0m\u001b[0;34m\u001b[0m\u001b[0m\n\u001b[0m\u001b[1;32m    884\u001b[0m             \u001b[0;32melse\u001b[0m\u001b[0;34m:\u001b[0m\u001b[0;34m\u001b[0m\u001b[0;34m\u001b[0m\u001b[0m\n\u001b[1;32m    885\u001b[0m                 \u001b[0;32mbreak\u001b[0m\u001b[0;34m\u001b[0m\u001b[0;34m\u001b[0m\u001b[0m\n",
      "\u001b[0;31mKeyboardInterrupt\u001b[0m: "
     ]
    }
   ],
   "source": [
    "corpusTxt = 'translate2019_20k.txt'\n",
    "iteration = 6000\n",
    "top = 2\n",
    "###################################\n",
    "\n",
    "def hand_test(voc,en,de,top,source):\n",
    "  source2 = filter(voc, source)\n",
    "  target = predict(en, de, voc, source2, top)\n",
    "  print(\"source: '%s'\\nfilter: '%s'\" % (source,source2))\n",
    "  #return target\n",
    "  for answer in target:\n",
    "    print(\"\\t'%s'\" % (answer))\n",
    "\n",
    "#homePath = '/content/drive/My Drive/Colab Notebooks/seq2seq/'\n",
    "homePath = '/home/seke/jupyter/seq2seq/'\n",
    "modelFile = homePath + 'save/model/' + corpusTxt[:-4] + '/1-1_512/' + str(iteration) + '_backup_bidir_model.tar'\n",
    "\n",
    "en, de, voc = predictLoad(corpusTxt[:-4], modelFile, n_layers=1, hidden_size=512)\n",
    "\n",
    "while(True):\n",
    "  source = input(\"Segmented Question Input: \")\n",
    "  #seg_source = mecab_parse_space(source)\n",
    "  hand_test(voc,en,de,top,source)"
   ]
  },
  {
   "cell_type": "code",
   "execution_count": null,
   "metadata": {},
   "outputs": [],
   "source": []
  }
 ],
 "metadata": {
  "accelerator": "GPU",
  "colab": {
   "collapsed_sections": [],
   "name": "chatbot2017.ipynb",
   "provenance": [
    {
     "file_id": "1Dxt5VhG0DgOCsKa7WjPbY9H4al4grbwo",
     "timestamp": 1542537768407
    }
   ],
   "toc_visible": true,
   "version": "0.3.2"
  },
  "kernelspec": {
   "display_name": "Python 3",
   "language": "python",
   "name": "python3"
  },
  "language_info": {
   "codemirror_mode": {
    "name": "ipython",
    "version": 3
   },
   "file_extension": ".py",
   "mimetype": "text/x-python",
   "name": "python",
   "nbconvert_exporter": "python",
   "pygments_lexer": "ipython3",
   "version": "3.6.8"
  }
 },
 "nbformat": 4,
 "nbformat_minor": 1
}
