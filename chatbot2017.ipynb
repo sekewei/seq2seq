{
 "cells": [
  {
   "cell_type": "markdown",
   "metadata": {
    "colab_type": "text",
    "id": "c5EB3sOo-nfv"
   },
   "source": [
    "# 展示如何利用序列轉序列模型，進行問答模型的學習、測試 \n",
    "## 2019.5.1. Version 1.0 by sekewei@mail.tku.edu.tw"
   ]
  },
  {
   "cell_type": "markdown",
   "metadata": {
    "colab_type": "text",
    "id": "NIuV8hXg-6Sa"
   },
   "source": [
    "程式目錄架構\n",
    "\n",
    "/content/drive/My Drive/Colab Notebooks/seq2seq/ \n",
    "\n",
    "         chatbot2017.ipynb 模型的訓練及測試\n",
    "         \n",
    "         save/model/stc2017_14k/1-1_512/  模型目錄\n",
    "                  x00_backup_bidir_model.tar\n",
    "         \n",
    "         save/training_model/stc2017_14k/  訓練所須字典，批次，語料目錄\n",
    "                  x00_training_batches_64.tar\n",
    "                  pairs.tar\n",
    "                  voc.tar\n",
    "   \n",
    "         pytorch_chatbot/\n",
    "                   __init__.py\n",
    "                   config.py\n",
    "                   evaluate.py\n",
    "                   load.py\n",
    "                   main.py\n",
    "                   model.py\n",
    "                   README.md\n",
    "                   train.py\n"
   ]
  },
  {
   "cell_type": "markdown",
   "metadata": {
    "colab_type": "text",
    "id": "2J2cI7f2AYwM"
   },
   "source": [
    "# 安裝套件"
   ]
  },
  {
   "cell_type": "markdown",
   "metadata": {
    "colab_type": "text",
    "id": "qglaDR3x-21D"
   },
   "source": [
    "安裝pytorch環境"
   ]
  },
  {
   "cell_type": "code",
   "execution_count": 1,
   "metadata": {
    "colab": {
     "base_uri": "https://localhost:8080/",
     "height": 353
    },
    "colab_type": "code",
    "executionInfo": {
     "elapsed": 4682,
     "status": "ok",
     "timestamp": 1556627698636,
     "user": {
      "displayName": "broadcast seke",
      "photoUrl": "https://lh3.googleusercontent.com/-au9Xrs4fCsQ/AAAAAAAAAAI/AAAAAAAAArM/4SGRgg_M288/s64/photo.jpg",
      "userId": "14328858031672786232"
     },
     "user_tz": -480
    },
    "id": "p1SYERm6NRYD",
    "outputId": "596dac92-eb92-4057-b624-9d6087b549f2"
   },
   "outputs": [
    {
     "name": "stdout",
     "output_type": "stream",
     "text": [
      "Ubuntu 18.04.1 LTS \\n \\l\n",
      "\n",
      "Python 3.6.8 :: Anaconda, Inc.\n",
      "Tue Apr 30 20:45:31 2019       \n",
      "+-----------------------------------------------------------------------------+\n",
      "| NVIDIA-SMI 410.48                 Driver Version: 410.48                    |\n",
      "|-------------------------------+----------------------+----------------------+\n",
      "| GPU  Name        Persistence-M| Bus-Id        Disp.A | Volatile Uncorr. ECC |\n",
      "| Fan  Temp  Perf  Pwr:Usage/Cap|         Memory-Usage | GPU-Util  Compute M. |\n",
      "|===============================+======================+======================|\n",
      "|   0  GeForce RTX 208...  Off  | 00000000:01:00.0 Off |                  N/A |\n",
      "| 14%   51C    P0    59W / 250W |      0MiB / 10989MiB |      0%      Default |\n",
      "+-------------------------------+----------------------+----------------------+\n",
      "|   1  GeForce RTX 208...  Off  | 00000000:07:00.0 Off |                  N/A |\n",
      "| 14%   48C    P0     1W / 250W |      0MiB / 10986MiB |      0%      Default |\n",
      "+-------------------------------+----------------------+----------------------+\n",
      "                                                                               \n",
      "+-----------------------------------------------------------------------------+\n",
      "| Processes:                                                       GPU Memory |\n",
      "|  GPU       PID   Type   Process name                             Usage      |\n",
      "|=============================================================================|\n",
      "|  No running processes found                                                 |\n",
      "+-----------------------------------------------------------------------------+\n"
     ]
    }
   ],
   "source": [
    "! cat /etc/issue\n",
    "! python --version\n",
    "! nvidia-smi"
   ]
  },
  {
   "cell_type": "code",
   "execution_count": 2,
   "metadata": {
    "colab": {
     "base_uri": "https://localhost:8080/",
     "height": 339
    },
    "colab_type": "code",
    "executionInfo": {
     "elapsed": 63265,
     "status": "ok",
     "timestamp": 1556627757234,
     "user": {
      "displayName": "broadcast seke",
      "photoUrl": "https://lh3.googleusercontent.com/-au9Xrs4fCsQ/AAAAAAAAAAI/AAAAAAAAArM/4SGRgg_M288/s64/photo.jpg",
      "userId": "14328858031672786232"
     },
     "user_tz": -480
    },
    "id": "fuMUwUUU__Qf",
    "outputId": "c8f1ee5b-2b85-4d74-d61a-67992ec65d49"
   },
   "outputs": [],
   "source": [
    "#!pip3 install http://download.pytorch.org/whl/cu80/torch-0.4.1-cp36-cp36m-linux_x86_64.whl\n",
    "#!pip3 uninstall torch\n",
    "#!pip3 install https://download.pytorch.org/whl/cu100/torch-1.0.1.post2-cp36-cp36m-linux_x86_64.whl\n",
    "#!pip3 install torchvision\n",
    "#!pip3 install torch torchvision"
   ]
  },
  {
   "cell_type": "markdown",
   "metadata": {
    "colab_type": "text",
    "id": "xzLx-XLfATqE"
   },
   "source": [
    "# 載入語料"
   ]
  },
  {
   "cell_type": "code",
   "execution_count": 3,
   "metadata": {
    "colab": {
     "base_uri": "https://localhost:8080/",
     "height": 54
    },
    "colab_type": "code",
    "executionInfo": {
     "elapsed": 729,
     "status": "ok",
     "timestamp": 1556627764546,
     "user": {
      "displayName": "broadcast seke",
      "photoUrl": "https://lh3.googleusercontent.com/-au9Xrs4fCsQ/AAAAAAAAAAI/AAAAAAAAArM/4SGRgg_M288/s64/photo.jpg",
      "userId": "14328858031672786232"
     },
     "user_tz": -480
    },
    "id": "bV7ot_tppTi_",
    "outputId": "869d0e5c-a342-4113-af94-d92b3dbc9d33"
   },
   "outputs": [
    {
     "name": "stdout",
     "output_type": "stream",
     "text": [
      "Drive already mounted at /content/drive; to attempt to forcibly remount, call drive.mount(\"/content/drive\", force_remount=True).\n"
     ]
    }
   ],
   "source": [
    "#coding:utf-8\n",
    "import os\n",
    "\n",
    "# Load the Drive helper and mount\n",
    "from google.colab import drive\n",
    "\n",
    "# This will prompt for authorization.\n",
    "drive.mount('/content/drive')"
   ]
  },
  {
   "cell_type": "markdown",
   "metadata": {
    "colab_type": "text",
    "id": "8hVmlQ5bAq4d"
   },
   "source": [
    "切換工作目錄，列出工作目錄內容"
   ]
  },
  {
   "cell_type": "code",
   "execution_count": 4,
   "metadata": {
    "colab": {
     "base_uri": "https://localhost:8080/",
     "height": 34
    },
    "colab_type": "code",
    "executionInfo": {
     "elapsed": 2156,
     "status": "ok",
     "timestamp": 1556627768104,
     "user": {
      "displayName": "broadcast seke",
      "photoUrl": "https://lh3.googleusercontent.com/-au9Xrs4fCsQ/AAAAAAAAAAI/AAAAAAAAArM/4SGRgg_M288/s64/photo.jpg",
      "userId": "14328858031672786232"
     },
     "user_tz": -480
    },
    "id": "z1_dI__wozUC",
    "outputId": "a73e67ba-75c9-4fdc-8686-07ecb2489c9c"
   },
   "outputs": [
    {
     "name": "stdout",
     "output_type": "stream",
     "text": [
      "chatbot2017.ipynb  data  pytorch_chatbot  runtest.ipynb  save\n"
     ]
    }
   ],
   "source": [
    "os.chdir('/content/drive/My Drive/Colab Notebooks/seq2seq')\n",
    "!ls"
   ]
  },
  {
   "cell_type": "code",
   "execution_count": 1,
   "metadata": {
    "colab": {},
    "colab_type": "code",
    "id": "1oBLeHTGJw6z"
   },
   "outputs": [],
   "source": [
    "corpusTxt = 'stc2017_14k.txt'\n",
    "######################################\n",
    "import codecs\n",
    "\n",
    "#homePath = '/content/drive/My Drive/Colab Notebooks/seq2seq/'\n",
    "homePath = '/home/seke/jupyter/seq2seq/'\n",
    "dataPath = 'data/'\n",
    "\n",
    "filePath = homePath + dataPath + corpusTxt\n",
    "\n",
    "with codecs.open(filePath, \"r\", \"utf-8\") as f:\n",
    "    corpus_raw = f.readlines()\n",
    "\n",
    "corpus_raw2 = [line.strip() for line in corpus_raw]\n",
    "\n",
    "corpus_train = {}\n",
    "corpus_train['question'] = corpus_raw2[0::2]\n",
    "corpus_train['answer'] = corpus_raw2[1::2]"
   ]
  },
  {
   "cell_type": "markdown",
   "metadata": {
    "colab_type": "text",
    "id": "wY2RYPEBBIf6"
   },
   "source": [
    "## 利用表格檢視訓練資料 "
   ]
  },
  {
   "cell_type": "code",
   "execution_count": 2,
   "metadata": {
    "colab": {
     "base_uri": "https://localhost:8080/",
     "height": 2234
    },
    "colab_type": "code",
    "executionInfo": {
     "elapsed": 720,
     "status": "ok",
     "timestamp": 1556627359246,
     "user": {
      "displayName": "broadcast seke",
      "photoUrl": "https://lh3.googleusercontent.com/-au9Xrs4fCsQ/AAAAAAAAAAI/AAAAAAAAArM/4SGRgg_M288/s64/photo.jpg",
      "userId": "14328858031672786232"
     },
     "user_tz": -480
    },
    "id": "PM7w1LZHzezw",
    "outputId": "fb0a3c46-98da-40cd-b1d6-47909af85981"
   },
   "outputs": [
    {
     "data": {
      "text/html": [
       "<div>\n",
       "<style scoped>\n",
       "    .dataframe tbody tr th:only-of-type {\n",
       "        vertical-align: middle;\n",
       "    }\n",
       "\n",
       "    .dataframe tbody tr th {\n",
       "        vertical-align: top;\n",
       "    }\n",
       "\n",
       "    .dataframe thead th {\n",
       "        text-align: right;\n",
       "    }\n",
       "</style>\n",
       "<table border=\"1\" class=\"dataframe\">\n",
       "  <thead>\n",
       "    <tr style=\"text-align: right;\">\n",
       "      <th></th>\n",
       "      <th>question</th>\n",
       "      <th>answer</th>\n",
       "    </tr>\n",
       "  </thead>\n",
       "  <tbody>\n",
       "    <tr>\n",
       "      <th>0</th>\n",
       "      <td>就是 太 小 了 ， 哎</td>\n",
       "      <td>所以 我 霸占 了 两 个 位置 ~ 哈 哈哈 ~</td>\n",
       "    </tr>\n",
       "    <tr>\n",
       "      <th>1</th>\n",
       "      <td>作弊</td>\n",
       "      <td>我 这 不 叫 作弊 ， 称为 “ 观望 ”</td>\n",
       "    </tr>\n",
       "    <tr>\n",
       "      <th>2</th>\n",
       "      <td>花 姐 看 啊 快乐 大本营 。 。 ~</td>\n",
       "      <td>哈哈 ， 花 姐 快 睡 了 哈 。 晚安 ， 爱 你</td>\n",
       "    </tr>\n",
       "    <tr>\n",
       "      <th>3</th>\n",
       "      <td>我 呢</td>\n",
       "      <td>哈哈 ， 算 上 你 ， 她 遇上 两 个 了 ！</td>\n",
       "    </tr>\n",
       "    <tr>\n",
       "      <th>4</th>\n",
       "      <td>哈哈 你们 还有 骑行 活动 的 啊 。</td>\n",
       "      <td>是 呀 哈哈 ！</td>\n",
       "    </tr>\n",
       "    <tr>\n",
       "      <th>5</th>\n",
       "      <td>看来 你 是 一个 真 性情 之 人 ， 敢 爱 敢 恨 的 那种 ！</td>\n",
       "      <td>这 句 话 你 说 就 对了 ， 敢 爱 敢 恨</td>\n",
       "    </tr>\n",
       "    <tr>\n",
       "      <th>6</th>\n",
       "      <td>外国 的 天空 很 蓝 ！ 晚上 多 星星 吗 ！ ！</td>\n",
       "      <td>除了 夏威夷 晚上 看到 明亮 的 星星 ， 其他 时间 没有 留意 哦</td>\n",
       "    </tr>\n",
       "    <tr>\n",
       "      <th>7</th>\n",
       "      <td>多 吃 不 长 肉 , 有 这么 神奇 的 东东 吗 ? 37</td>\n",
       "      <td>西湖 银 泰 礼券 吃 多 了 不 长 肉</td>\n",
       "    </tr>\n",
       "    <tr>\n",
       "      <th>8</th>\n",
       "      <td>老 南宁 已 走 远</td>\n",
       "      <td>我 的 睡眠 也 是 离 我 越来越 远 了 。 有 失眠 的 么 ？</td>\n",
       "    </tr>\n",
       "    <tr>\n",
       "      <th>9</th>\n",
       "      <td>打来 木 。</td>\n",
       "      <td>好 啊 。 我 号码 又 忘 了 。 ！</td>\n",
       "    </tr>\n",
       "    <tr>\n",
       "      <th>10</th>\n",
       "      <td>要是 像 绍兴 那种 的 胖胖 车 也 就 算 了</td>\n",
       "      <td>要是 像 绍兴 那种 的 胖胖 车 也 就 算 了</td>\n",
       "    </tr>\n",
       "    <tr>\n",
       "      <th>11</th>\n",
       "      <td>嘿嘿 ！ 我 想 你 了 …</td>\n",
       "      <td>你 不 问问 你 的 主人 有 没有 意见 么 ？ ！ ！</td>\n",
       "    </tr>\n",
       "    <tr>\n",
       "      <th>12</th>\n",
       "      <td>好 嘞</td>\n",
       "      <td>在 哪里 演 上 戏 小 剧场 啊</td>\n",
       "    </tr>\n",
       "    <tr>\n",
       "      <th>13</th>\n",
       "      <td>那个 人 ？ 哪个 人 啊 ？</td>\n",
       "      <td>嘻嘻 ， 小 朋友 哇</td>\n",
       "    </tr>\n",
       "    <tr>\n",
       "      <th>14</th>\n",
       "      <td>多 个 心眼 就 好</td>\n",
       "      <td>这 世界 太 乱 了</td>\n",
       "    </tr>\n",
       "    <tr>\n",
       "      <th>15</th>\n",
       "      <td>希望 李炜 能 上 央视 教师 节 晚会</td>\n",
       "      <td>有 这么 多 李炜 的 歌迷 ！ ？</td>\n",
       "    </tr>\n",
       "    <tr>\n",
       "      <th>16</th>\n",
       "      <td>恩 昨天 家里 网络 一直 不好 ~ ~ 咋 的 了 有 啥 烦心 事 ~</td>\n",
       "      <td>具体 也 木 有 啊 不由自主 的 烦闷 啊</td>\n",
       "    </tr>\n",
       "    <tr>\n",
       "      <th>17</th>\n",
       "      <td>我 妹 在 那 做 志愿 者 … …</td>\n",
       "      <td>你 妹 ？ 我 姐 ？</td>\n",
       "    </tr>\n",
       "    <tr>\n",
       "      <th>18</th>\n",
       "      <td>手机 让 人们 交流 变 少 了</td>\n",
       "      <td>杯 具 啊 ！ 手机 功能 在 增多 ， 情感 在 流失 …</td>\n",
       "    </tr>\n",
       "    <tr>\n",
       "      <th>19</th>\n",
       "      <td>我 帮 你 换 的</td>\n",
       "      <td>去 死 。 真 见鬼 了</td>\n",
       "    </tr>\n",
       "    <tr>\n",
       "      <th>20</th>\n",
       "      <td>编剧 就 可以 这样 75 人 吗 ？ 5555</td>\n",
       "      <td>人家 编 故事 逗 你 玩 是 职业 行为 。 呵呵</td>\n",
       "    </tr>\n",
       "    <tr>\n",
       "      <th>21</th>\n",
       "      <td>我 地 噶 坐 馆 阿 哈哈</td>\n",
       "      <td>读 左 轻工 甘 好多 年 终于 有 新 坐 馆 啦</td>\n",
       "    </tr>\n",
       "    <tr>\n",
       "      <th>22</th>\n",
       "      <td>我 想 我们 属于 萌 女 。</td>\n",
       "      <td>萌 女 是 ？ ？</td>\n",
       "    </tr>\n",
       "    <tr>\n",
       "      <th>23</th>\n",
       "      <td>同 求 啊 ， 擦</td>\n",
       "      <td>就 哪 么 着 啊 ？ = =</td>\n",
       "    </tr>\n",
       "    <tr>\n",
       "      <th>24</th>\n",
       "      <td>原来 你 是 这个 调调 ？</td>\n",
       "      <td>对 啊 我 喜欢 个 种 感觉 滴 ！</td>\n",
       "    </tr>\n",
       "    <tr>\n",
       "      <th>25</th>\n",
       "      <td>最 里面 那 一 圈 留给 你 了 。</td>\n",
       "      <td>一 大 瓶 鲜 橙 多 ， 压力 也 很 大 ， 好 不好 ！</td>\n",
       "    </tr>\n",
       "    <tr>\n",
       "      <th>26</th>\n",
       "      <td>吃 的 是 发给 你 的 ！ 乖</td>\n",
       "      <td>你 还 不如 寄 给 我 呢 饿死 我 啦 ， 你们 今晚 玩 的 很 嗨吧 ， 征 啥 时...</td>\n",
       "    </tr>\n",
       "    <tr>\n",
       "      <th>27</th>\n",
       "      <td>哎 ， 前年 我家 小咪 也 走 了 ！ 这 不 禁 不住 又 养 了 两 只</td>\n",
       "      <td>祝 你家 的 小咪 们 能够 健康 、 快乐 、 幸福 的 成长 哦 ！</td>\n",
       "    </tr>\n",
       "    <tr>\n",
       "      <th>28</th>\n",
       "      <td>胖胖 哈哈</td>\n",
       "      <td>还有 批 萨 ！ 等 我 发 工资 过来 次 下午 茶 还有 辣 府 了 啊 ！ 我 等死 ...</td>\n",
       "    </tr>\n",
       "    <tr>\n",
       "      <th>29</th>\n",
       "      <td>问候 家乡 人 ！</td>\n",
       "      <td>梁 老师 是 贵阳 人 ？</td>\n",
       "    </tr>\n",
       "    <tr>\n",
       "      <th>...</th>\n",
       "      <td>...</td>\n",
       "      <td>...</td>\n",
       "    </tr>\n",
       "    <tr>\n",
       "      <th>13960</th>\n",
       "      <td>菲 姐 别 忘 了 给 我 带 东西 ， 哈哈 ！</td>\n",
       "      <td>宝贝 ， 带 了 呢 ， 累 屎 偶 了 ， 想 屎 你 了 呢</td>\n",
       "    </tr>\n",
       "    <tr>\n",
       "      <th>13961</th>\n",
       "      <td>古代 是 这样 的 ， 现在 可 不 一定 哦 ！</td>\n",
       "      <td>现在 在 别的 国家 不 一定 ， 在 中国 嘛 ， 呵呵</td>\n",
       "    </tr>\n",
       "    <tr>\n",
       "      <th>13962</th>\n",
       "      <td>这 还 能 支持 国产 嘛 ！</td>\n",
       "      <td>更 郁闷 的 是 领导 安排 还 非得 买 这 车 。</td>\n",
       "    </tr>\n",
       "    <tr>\n",
       "      <th>13963</th>\n",
       "      <td>有 遇 过 这样 的 事 呀 ~</td>\n",
       "      <td>我 就 说 我 咋 没 遇到 过 、 我 得 回忆 回忆 我 的 当年 。</td>\n",
       "    </tr>\n",
       "    <tr>\n",
       "      <th>13964</th>\n",
       "      <td>吃 了 有 要 喊 减肥 了</td>\n",
       "      <td>是 啊 ， 人生 就是 这么 曲折 迂回</td>\n",
       "    </tr>\n",
       "    <tr>\n",
       "      <th>13965</th>\n",
       "      <td>现在 的 您 ， 变 豁达 了 吗 ？ ？</td>\n",
       "      <td>现在 世界 观 人生 观 价值 观 都 在 变化 着 。 。 。</td>\n",
       "    </tr>\n",
       "    <tr>\n",
       "      <th>13966</th>\n",
       "      <td>牌阵 摆 好 后 忘 了 拍 下来 了 纠结 下次 一定 会 麻烦 你 帮 我 看 的 嘻嘻...</td>\n",
       "      <td>牌阵 摆 好 后 忘 了 拍 下来 了 纠结 下次 一定 会 麻烦 你 帮 我 看 的 嘻嘻...</td>\n",
       "    </tr>\n",
       "    <tr>\n",
       "      <th>13967</th>\n",
       "      <td>这个 面 看 确实 像 李 易峰 。</td>\n",
       "      <td>哈 哈哈 ， 是 呀 ， 还 满 可爱 的 哈</td>\n",
       "    </tr>\n",
       "    <tr>\n",
       "      <th>13968</th>\n",
       "      <td>为啥 哪 为啥 哪 ！</td>\n",
       "      <td>老板 娘 先 分析 下 啊 哈哈 ！</td>\n",
       "    </tr>\n",
       "    <tr>\n",
       "      <th>13969</th>\n",
       "      <td>乖乖 ~ 都 一万九 了 ！ 少 就 少 点儿 吧</td>\n",
       "      <td>哈 哈哈 。 。 只是 想 求证 一下 有 木 有 这 规律 。</td>\n",
       "    </tr>\n",
       "    <tr>\n",
       "      <th>13970</th>\n",
       "      <td>你 这 衣服 是 熊 的 吗 ？ 咋 看 他 好像 也 有 一 件 ？</td>\n",
       "      <td>俩 媳妇 逛街 一起 购得 ， 哎 ， 无 语 啊 ！</td>\n",
       "    </tr>\n",
       "    <tr>\n",
       "      <th>13971</th>\n",
       "      <td>吃 剩 的 ， 反正 现在 家里 有 大量 吃 不 完 的 东西</td>\n",
       "      <td>你 家里 吃 剩 的 都 没 问题 的 话 ， 你 还 养 什么 猪 ？</td>\n",
       "    </tr>\n",
       "    <tr>\n",
       "      <th>13972</th>\n",
       "      <td>众志成城 ！ 森林 是 我们 给 自己 ， 也 是 给 地球 最好 的 礼物 ！</td>\n",
       "      <td>森林 ， 让 我们 为 您 效劳 ~</td>\n",
       "    </tr>\n",
       "    <tr>\n",
       "      <th>13973</th>\n",
       "      <td>哇塞 真的 呀 ？ 宝宝 去 视察 的 ？</td>\n",
       "      <td>对 呀 ~ 很 慈祥 的 小 老头 儿 ~</td>\n",
       "    </tr>\n",
       "    <tr>\n",
       "      <th>13974</th>\n",
       "      <td>怎么 捆绑 啊 ? ?</td>\n",
       "      <td>进入 会员 中心 完善 个人 资料 ， 填写 手机 号</td>\n",
       "    </tr>\n",
       "    <tr>\n",
       "      <th>13975</th>\n",
       "      <td>请问 怎么 报名 么 ？</td>\n",
       "      <td>见 我们 刚 更新 的 微博 哈</td>\n",
       "    </tr>\n",
       "    <tr>\n",
       "      <th>13976</th>\n",
       "      <td>具体 原因 到 国务 院 批准 去 了</td>\n",
       "      <td>顺便 成立 个 专家 组 调查 半年</td>\n",
       "    </tr>\n",
       "    <tr>\n",
       "      <th>13977</th>\n",
       "      <td>穿 厚 ！</td>\n",
       "      <td>问题 是 早上 已经 穿 裙子 光 大腿 出来 了 ， 悲 催 啊</td>\n",
       "    </tr>\n",
       "    <tr>\n",
       "      <th>13978</th>\n",
       "      <td>祖国 山河 一 片 绿 ！</td>\n",
       "      <td>您 是 万 绿 从中 一点 红 ~</td>\n",
       "    </tr>\n",
       "    <tr>\n",
       "      <th>13979</th>\n",
       "      <td>啊 ! ~ 我们 两 终于 不 像 了</td>\n",
       "      <td>你 装 个 无辜 可爱 也 这 模样 啊 不会 不 像 的 ！</td>\n",
       "    </tr>\n",
       "    <tr>\n",
       "      <th>13980</th>\n",
       "      <td>应该 会 的 ！ 央视 不 播 咱 直播 临沂 播 ！</td>\n",
       "      <td>哈哈 ， 现在 是 创 城 期间 ， 怕 是 任何 负面 的 也 不让 播 啊</td>\n",
       "    </tr>\n",
       "    <tr>\n",
       "      <th>13981</th>\n",
       "      <td>有钱 俾 就 有 货 。 。 。</td>\n",
       "      <td>中国 点 解 甘 落后 啊 全 因 你 啲 人渣 ， 败坏 社会 风气</td>\n",
       "    </tr>\n",
       "    <tr>\n",
       "      <th>13982</th>\n",
       "      <td>感情 本 就 不是 法律 管 的 事儿 。</td>\n",
       "      <td>感情 没 了 还是 得 法律 管 啊 ， 要不 还 不 打出 人命</td>\n",
       "    </tr>\n",
       "    <tr>\n",
       "      <th>13983</th>\n",
       "      <td>菜 董 ， 你 这 张 照片 哪里 翻 出来 的 ？ 好 怀旧 啊 ， 呵呵</td>\n",
       "      <td>我们 去年 毕业 游 的 时候 的 照片 超 怀旧 吧 我 一 看 就 觉得 超 有 感觉</td>\n",
       "    </tr>\n",
       "    <tr>\n",
       "      <th>13984</th>\n",
       "      <td>你 也 就是 讨 到 现在 的 老婆</td>\n",
       "      <td>这样 有 意思 吗 ， 真 感 兴趣 来 我家 看看</td>\n",
       "    </tr>\n",
       "    <tr>\n",
       "      <th>13985</th>\n",
       "      <td>学会 了 ！ 原来 到 最后 系 要 用 野 固定 噶 ！</td>\n",
       "      <td>折 多 只 就 习惯 嘎啦</td>\n",
       "    </tr>\n",
       "    <tr>\n",
       "      <th>13986</th>\n",
       "      <td>哪个 地铁 人 少 出 啥 事 了 吧</td>\n",
       "      <td>我 去 ， 你 个 乌鸦 嘴 ， 呸 呸 呸 。</td>\n",
       "    </tr>\n",
       "    <tr>\n",
       "      <th>13987</th>\n",
       "      <td>恭喜 恭喜 ！ 我们 也 来 测试 下</td>\n",
       "      <td>多谢 支持 ！</td>\n",
       "    </tr>\n",
       "    <tr>\n",
       "      <th>13988</th>\n",
       "      <td>天天向上 好看 ！</td>\n",
       "      <td>还是 天天向上 好看 ！ 哈</td>\n",
       "    </tr>\n",
       "    <tr>\n",
       "      <th>13989</th>\n",
       "      <td>没有 ， 我 就 当 你 母爱 泛滥 吧 ！ 哈 哈哈</td>\n",
       "      <td>我 生 出来 的 孩子 才 不会 张 这么 小 的 眼睛 好 不好</td>\n",
       "    </tr>\n",
       "  </tbody>\n",
       "</table>\n",
       "<p>13990 rows × 2 columns</p>\n",
       "</div>"
      ],
      "text/plain": [
       "                                                question  \\\n",
       "0                                           就是 太 小 了 ， 哎   \n",
       "1                                                     作弊   \n",
       "2                                   花 姐 看 啊 快乐 大本营 。 。 ~   \n",
       "3                                                    我 呢   \n",
       "4                                   哈哈 你们 还有 骑行 活动 的 啊 。   \n",
       "5                    看来 你 是 一个 真 性情 之 人 ， 敢 爱 敢 恨 的 那种 ！   \n",
       "6                            外国 的 天空 很 蓝 ！ 晚上 多 星星 吗 ！ ！   \n",
       "7                        多 吃 不 长 肉 , 有 这么 神奇 的 东东 吗 ? 37   \n",
       "8                                             老 南宁 已 走 远   \n",
       "9                                                 打来 木 。   \n",
       "10                             要是 像 绍兴 那种 的 胖胖 车 也 就 算 了   \n",
       "11                                        嘿嘿 ！ 我 想 你 了 …   \n",
       "12                                                   好 嘞   \n",
       "13                                       那个 人 ？ 哪个 人 啊 ？   \n",
       "14                                            多 个 心眼 就 好   \n",
       "15                                  希望 李炜 能 上 央视 教师 节 晚会   \n",
       "16                 恩 昨天 家里 网络 一直 不好 ~ ~ 咋 的 了 有 啥 烦心 事 ~   \n",
       "17                                    我 妹 在 那 做 志愿 者 … …   \n",
       "18                                      手机 让 人们 交流 变 少 了   \n",
       "19                                             我 帮 你 换 的   \n",
       "20                              编剧 就 可以 这样 75 人 吗 ？ 5555   \n",
       "21                                        我 地 噶 坐 馆 阿 哈哈   \n",
       "22                                       我 想 我们 属于 萌 女 。   \n",
       "23                                             同 求 啊 ， 擦   \n",
       "24                                        原来 你 是 这个 调调 ？   \n",
       "25                                   最 里面 那 一 圈 留给 你 了 。   \n",
       "26                                      吃 的 是 发给 你 的 ！ 乖   \n",
       "27               哎 ， 前年 我家 小咪 也 走 了 ！ 这 不 禁 不住 又 养 了 两 只   \n",
       "28                                                 胖胖 哈哈   \n",
       "29                                             问候 家乡 人 ！   \n",
       "...                                                  ...   \n",
       "13960                          菲 姐 别 忘 了 给 我 带 东西 ， 哈哈 ！   \n",
       "13961                          古代 是 这样 的 ， 现在 可 不 一定 哦 ！   \n",
       "13962                                    这 还 能 支持 国产 嘛 ！   \n",
       "13963                                   有 遇 过 这样 的 事 呀 ~   \n",
       "13964                                     吃 了 有 要 喊 减肥 了   \n",
       "13965                              现在 的 您 ， 变 豁达 了 吗 ？ ？   \n",
       "13966  牌阵 摆 好 后 忘 了 拍 下来 了 纠结 下次 一定 会 麻烦 你 帮 我 看 的 嘻嘻...   \n",
       "13967                                 这个 面 看 确实 像 李 易峰 。   \n",
       "13968                                        为啥 哪 为啥 哪 ！   \n",
       "13969                          乖乖 ~ 都 一万九 了 ！ 少 就 少 点儿 吧   \n",
       "13970                你 这 衣服 是 熊 的 吗 ？ 咋 看 他 好像 也 有 一 件 ？   \n",
       "13971                   吃 剩 的 ， 反正 现在 家里 有 大量 吃 不 完 的 东西   \n",
       "13972           众志成城 ！ 森林 是 我们 给 自己 ， 也 是 给 地球 最好 的 礼物 ！   \n",
       "13973                              哇塞 真的 呀 ？ 宝宝 去 视察 的 ？   \n",
       "13974                                        怎么 捆绑 啊 ? ?   \n",
       "13975                                       请问 怎么 报名 么 ？   \n",
       "13976                                具体 原因 到 国务 院 批准 去 了   \n",
       "13977                                              穿 厚 ！   \n",
       "13978                                      祖国 山河 一 片 绿 ！   \n",
       "13979                                啊 ! ~ 我们 两 终于 不 像 了   \n",
       "13980                        应该 会 的 ！ 央视 不 播 咱 直播 临沂 播 ！   \n",
       "13981                                   有钱 俾 就 有 货 。 。 。   \n",
       "13982                              感情 本 就 不是 法律 管 的 事儿 。   \n",
       "13983             菜 董 ， 你 这 张 照片 哪里 翻 出来 的 ？ 好 怀旧 啊 ， 呵呵   \n",
       "13984                                 你 也 就是 讨 到 现在 的 老婆   \n",
       "13985                      学会 了 ！ 原来 到 最后 系 要 用 野 固定 噶 ！   \n",
       "13986                                哪个 地铁 人 少 出 啥 事 了 吧   \n",
       "13987                                恭喜 恭喜 ！ 我们 也 来 测试 下   \n",
       "13988                                          天天向上 好看 ！   \n",
       "13989                        没有 ， 我 就 当 你 母爱 泛滥 吧 ！ 哈 哈哈   \n",
       "\n",
       "                                                  answer  \n",
       "0                              所以 我 霸占 了 两 个 位置 ~ 哈 哈哈 ~  \n",
       "1                                 我 这 不 叫 作弊 ， 称为 “ 观望 ”  \n",
       "2                            哈哈 ， 花 姐 快 睡 了 哈 。 晚安 ， 爱 你  \n",
       "3                              哈哈 ， 算 上 你 ， 她 遇上 两 个 了 ！  \n",
       "4                                               是 呀 哈哈 ！  \n",
       "5                               这 句 话 你 说 就 对了 ， 敢 爱 敢 恨  \n",
       "6                   除了 夏威夷 晚上 看到 明亮 的 星星 ， 其他 时间 没有 留意 哦  \n",
       "7                                  西湖 银 泰 礼券 吃 多 了 不 长 肉  \n",
       "8                    我 的 睡眠 也 是 离 我 越来越 远 了 。 有 失眠 的 么 ？  \n",
       "9                                   好 啊 。 我 号码 又 忘 了 。 ！  \n",
       "10                             要是 像 绍兴 那种 的 胖胖 车 也 就 算 了  \n",
       "11                         你 不 问问 你 的 主人 有 没有 意见 么 ？ ！ ！  \n",
       "12                                     在 哪里 演 上 戏 小 剧场 啊  \n",
       "13                                           嘻嘻 ， 小 朋友 哇  \n",
       "14                                            这 世界 太 乱 了  \n",
       "15                                    有 这么 多 李炜 的 歌迷 ！ ？  \n",
       "16                                具体 也 木 有 啊 不由自主 的 烦闷 啊  \n",
       "17                                           你 妹 ？ 我 姐 ？  \n",
       "18                        杯 具 啊 ！ 手机 功能 在 增多 ， 情感 在 流失 …  \n",
       "19                                          去 死 。 真 见鬼 了  \n",
       "20                            人家 编 故事 逗 你 玩 是 职业 行为 。 呵呵  \n",
       "21                            读 左 轻工 甘 好多 年 终于 有 新 坐 馆 啦  \n",
       "22                                             萌 女 是 ？ ？  \n",
       "23                                       就 哪 么 着 啊 ？ = =  \n",
       "24                                   对 啊 我 喜欢 个 种 感觉 滴 ！  \n",
       "25                       一 大 瓶 鲜 橙 多 ， 压力 也 很 大 ， 好 不好 ！  \n",
       "26     你 还 不如 寄 给 我 呢 饿死 我 啦 ， 你们 今晚 玩 的 很 嗨吧 ， 征 啥 时...  \n",
       "27                  祝 你家 的 小咪 们 能够 健康 、 快乐 、 幸福 的 成长 哦 ！  \n",
       "28     还有 批 萨 ！ 等 我 发 工资 过来 次 下午 茶 还有 辣 府 了 啊 ！ 我 等死 ...  \n",
       "29                                         梁 老师 是 贵阳 人 ？  \n",
       "...                                                  ...  \n",
       "13960                   宝贝 ， 带 了 呢 ， 累 屎 偶 了 ， 想 屎 你 了 呢  \n",
       "13961                      现在 在 别的 国家 不 一定 ， 在 中国 嘛 ， 呵呵  \n",
       "13962                        更 郁闷 的 是 领导 安排 还 非得 买 这 车 。  \n",
       "13963              我 就 说 我 咋 没 遇到 过 、 我 得 回忆 回忆 我 的 当年 。  \n",
       "13964                               是 啊 ， 人生 就是 这么 曲折 迂回  \n",
       "13965                   现在 世界 观 人生 观 价值 观 都 在 变化 着 。 。 。  \n",
       "13966  牌阵 摆 好 后 忘 了 拍 下来 了 纠结 下次 一定 会 麻烦 你 帮 我 看 的 嘻嘻...  \n",
       "13967                            哈 哈哈 ， 是 呀 ， 还 满 可爱 的 哈  \n",
       "13968                                 老板 娘 先 分析 下 啊 哈哈 ！  \n",
       "13969                   哈 哈哈 。 。 只是 想 求证 一下 有 木 有 这 规律 。  \n",
       "13970                        俩 媳妇 逛街 一起 购得 ， 哎 ， 无 语 啊 ！  \n",
       "13971               你 家里 吃 剩 的 都 没 问题 的 话 ， 你 还 养 什么 猪 ？  \n",
       "13972                                 森林 ， 让 我们 为 您 效劳 ~  \n",
       "13973                              对 呀 ~ 很 慈祥 的 小 老头 儿 ~  \n",
       "13974                        进入 会员 中心 完善 个人 资料 ， 填写 手机 号  \n",
       "13975                                   见 我们 刚 更新 的 微博 哈  \n",
       "13976                                 顺便 成立 个 专家 组 调查 半年  \n",
       "13977                  问题 是 早上 已经 穿 裙子 光 大腿 出来 了 ， 悲 催 啊  \n",
       "13978                                  您 是 万 绿 从中 一点 红 ~  \n",
       "13979                    你 装 个 无辜 可爱 也 这 模样 啊 不会 不 像 的 ！  \n",
       "13980            哈哈 ， 现在 是 创 城 期间 ， 怕 是 任何 负面 的 也 不让 播 啊  \n",
       "13981                中国 点 解 甘 落后 啊 全 因 你 啲 人渣 ， 败坏 社会 风气  \n",
       "13982                  感情 没 了 还是 得 法律 管 啊 ， 要不 还 不 打出 人命  \n",
       "13983      我们 去年 毕业 游 的 时候 的 照片 超 怀旧 吧 我 一 看 就 觉得 超 有 感觉  \n",
       "13984                         这样 有 意思 吗 ， 真 感 兴趣 来 我家 看看  \n",
       "13985                                      折 多 只 就 习惯 嘎啦  \n",
       "13986                           我 去 ， 你 个 乌鸦 嘴 ， 呸 呸 呸 。  \n",
       "13987                                            多谢 支持 ！  \n",
       "13988                                     还是 天天向上 好看 ！ 哈  \n",
       "13989                  我 生 出来 的 孩子 才 不会 张 这么 小 的 眼睛 好 不好  \n",
       "\n",
       "[13990 rows x 2 columns]"
      ]
     },
     "execution_count": 2,
     "metadata": {},
     "output_type": "execute_result"
    }
   ],
   "source": [
    "import pandas as pd\n",
    "\n",
    "pd_train = pd.DataFrame(index=range(len(corpus_train['question'])), \n",
    "                        data={'question': corpus_train['question'], \n",
    "                              'answer': corpus_train['answer']},\n",
    "                       columns=['question','answer'])\n",
    "\n",
    "pd_train"
   ]
  },
  {
   "cell_type": "markdown",
   "metadata": {
    "colab_type": "text",
    "id": "teVvkDloAJUy"
   },
   "source": [
    "# 模型訓練"
   ]
  },
  {
   "cell_type": "markdown",
   "metadata": {
    "colab_type": "text",
    "id": "DLKkSo6OBjTo"
   },
   "source": [
    "匯入 pytorch_chatbot 套件  \n",
    "參考: [TRANSLATION WITH A SEQUENCE TO SEQUENCE NETWORK AND ATTENTION](https://pytorch.org/tutorials/intermediate/seq2seq_translation_tutorial.html)"
   ]
  },
  {
   "cell_type": "code",
   "execution_count": 1,
   "metadata": {
    "colab": {
     "base_uri": "https://localhost:8080/",
     "height": 50
    },
    "colab_type": "code",
    "executionInfo": {
     "elapsed": 1052,
     "status": "ok",
     "timestamp": 1556627782497,
     "user": {
      "displayName": "broadcast seke",
      "photoUrl": "https://lh3.googleusercontent.com/-au9Xrs4fCsQ/AAAAAAAAAAI/AAAAAAAAArM/4SGRgg_M288/s64/photo.jpg",
      "userId": "14328858031672786232"
     },
     "user_tz": -480
    },
    "id": "Qd6wOP8nRc9a",
    "outputId": "88c06d6a-05d6-4f26-9522-b49375a4aa58"
   },
   "outputs": [
    {
     "name": "stdout",
     "output_type": "stream",
     "text": [
      " import train evaluate\n",
      "\n",
      "15\n"
     ]
    }
   ],
   "source": [
    "import sys\n",
    "import pytorch_chatbot.main as pcm\n",
    "import pytorch_chatbot.evaluate as pce\n",
    "import pytorch_chatbot.config as pcc\n",
    "\n",
    "print(pcc.MAX_LENGTH)"
   ]
  },
  {
   "cell_type": "markdown",
   "metadata": {
    "colab_type": "text",
    "id": "O5Cg46SuF36E"
   },
   "source": [
    "## 首次訓練"
   ]
  },
  {
   "cell_type": "code",
   "execution_count": 5,
   "metadata": {
    "colab": {
     "base_uri": "https://localhost:8080/",
     "height": 390
    },
    "colab_type": "code",
    "executionInfo": {
     "elapsed": 6545,
     "status": "error",
     "timestamp": 1556627792226,
     "user": {
      "displayName": "broadcast seke",
      "photoUrl": "https://lh3.googleusercontent.com/-au9Xrs4fCsQ/AAAAAAAAAAI/AAAAAAAAArM/4SGRgg_M288/s64/photo.jpg",
      "userId": "14328858031672786232"
     },
     "user_tz": -480
    },
    "id": "WpmC1ag2F2CS",
    "outputId": "776d7fb4-f0bb-4fc4-d604-7c251fa9e147"
   },
   "outputs": [
    {
     "name": "stdout",
     "output_type": "stream",
     "text": [
      "Start loading training data ...\n",
      "Saved data not found, start preparing trianing data ...\n",
      "Reading lines...\n",
      "Read 13990 sentence pairs\n",
      "Trimmed to 9810 sentence pairs\n",
      "Counting words...\n",
      "Counted words: 12618\n",
      "Training pairs not found, generating ...\n",
      "Building encoder and decoder ...\n"
     ]
    },
    {
     "name": "stderr",
     "output_type": "stream",
     "text": [
      "\r",
      "  0%|          | 0/6000 [00:00<?, ?it/s]"
     ]
    },
    {
     "name": "stdout",
     "output_type": "stream",
     "text": [
      "Building optimizers ...\n",
      "Initializing ...\n"
     ]
    },
    {
     "name": "stderr",
     "output_type": "stream",
     "text": [
      "  2%|▏         | 100/6000 [05:22<5:17:00,  3.22s/it]"
     ]
    },
    {
     "name": "stdout",
     "output_type": "stream",
     "text": [
      "100 1% 295.8229\n"
     ]
    },
    {
     "name": "stderr",
     "output_type": "stream",
     "text": [
      "  3%|▎         | 200/6000 [10:41<5:13:14,  3.24s/it]"
     ]
    },
    {
     "name": "stdout",
     "output_type": "stream",
     "text": [
      "200 3% 148.7121\n"
     ]
    },
    {
     "name": "stderr",
     "output_type": "stream",
     "text": [
      "  5%|▌         | 300/6000 [16:02<5:03:03,  3.19s/it]"
     ]
    },
    {
     "name": "stdout",
     "output_type": "stream",
     "text": [
      "300 5% 119.8513\n"
     ]
    },
    {
     "name": "stderr",
     "output_type": "stream",
     "text": [
      "  7%|▋         | 400/6000 [21:22<4:58:16,  3.20s/it]"
     ]
    },
    {
     "name": "stdout",
     "output_type": "stream",
     "text": [
      "400 6% 101.9370\n"
     ]
    },
    {
     "name": "stderr",
     "output_type": "stream",
     "text": [
      "  8%|▊         | 500/6000 [26:41<4:53:43,  3.20s/it]"
     ]
    },
    {
     "name": "stdout",
     "output_type": "stream",
     "text": [
      "500 8% 88.4279\n"
     ]
    },
    {
     "name": "stderr",
     "output_type": "stream",
     "text": [
      " 10%|█         | 600/6000 [31:58<4:47:17,  3.19s/it]"
     ]
    },
    {
     "name": "stdout",
     "output_type": "stream",
     "text": [
      "600 10% 72.0850\n"
     ]
    },
    {
     "name": "stderr",
     "output_type": "stream",
     "text": [
      " 12%|█▏        | 700/6000 [37:18<4:48:07,  3.26s/it]"
     ]
    },
    {
     "name": "stdout",
     "output_type": "stream",
     "text": [
      "700 11% 60.8885\n"
     ]
    },
    {
     "name": "stderr",
     "output_type": "stream",
     "text": [
      " 13%|█▎        | 800/6000 [42:40<4:41:37,  3.25s/it]"
     ]
    },
    {
     "name": "stdout",
     "output_type": "stream",
     "text": [
      "800 13% 50.5207\n"
     ]
    },
    {
     "name": "stderr",
     "output_type": "stream",
     "text": [
      " 15%|█▌        | 900/6000 [48:06<4:41:38,  3.31s/it]"
     ]
    },
    {
     "name": "stdout",
     "output_type": "stream",
     "text": [
      "900 15% 41.5379\n"
     ]
    },
    {
     "name": "stderr",
     "output_type": "stream",
     "text": [
      " 17%|█▋        | 1000/6000 [53:32<4:31:02,  3.25s/it]"
     ]
    },
    {
     "name": "stdout",
     "output_type": "stream",
     "text": [
      "1000 16% 34.2126\n"
     ]
    },
    {
     "name": "stderr",
     "output_type": "stream",
     "text": [
      " 18%|█▊        | 1100/6000 [58:59<4:28:30,  3.29s/it]"
     ]
    },
    {
     "name": "stdout",
     "output_type": "stream",
     "text": [
      "1100 18% 28.2903\n"
     ]
    },
    {
     "name": "stderr",
     "output_type": "stream",
     "text": [
      " 20%|██        | 1200/6000 [1:04:22<4:20:07,  3.25s/it]"
     ]
    },
    {
     "name": "stdout",
     "output_type": "stream",
     "text": [
      "1200 20% 23.5402\n"
     ]
    },
    {
     "name": "stderr",
     "output_type": "stream",
     "text": [
      " 22%|██▏       | 1300/6000 [1:10:12<4:41:39,  3.60s/it]"
     ]
    },
    {
     "name": "stdout",
     "output_type": "stream",
     "text": [
      "1300 21% 19.2642\n"
     ]
    },
    {
     "name": "stderr",
     "output_type": "stream",
     "text": [
      " 23%|██▎       | 1400/6000 [1:15:56<4:09:43,  3.26s/it]"
     ]
    },
    {
     "name": "stdout",
     "output_type": "stream",
     "text": [
      "1400 23% 15.8128\n"
     ]
    },
    {
     "name": "stderr",
     "output_type": "stream",
     "text": [
      " 25%|██▌       | 1500/6000 [1:21:17<3:59:38,  3.20s/it]"
     ]
    },
    {
     "name": "stdout",
     "output_type": "stream",
     "text": [
      "1500 25% 13.2839\n"
     ]
    },
    {
     "name": "stderr",
     "output_type": "stream",
     "text": [
      " 27%|██▋       | 1600/6000 [1:26:34<3:57:12,  3.23s/it]"
     ]
    },
    {
     "name": "stdout",
     "output_type": "stream",
     "text": [
      "1600 26% 11.1072\n"
     ]
    },
    {
     "name": "stderr",
     "output_type": "stream",
     "text": [
      " 28%|██▊       | 1700/6000 [1:31:55<3:49:38,  3.20s/it]"
     ]
    },
    {
     "name": "stdout",
     "output_type": "stream",
     "text": [
      "1700 28% 9.3368\n"
     ]
    },
    {
     "name": "stderr",
     "output_type": "stream",
     "text": [
      " 30%|███       | 1800/6000 [1:37:14<3:46:49,  3.24s/it]"
     ]
    },
    {
     "name": "stdout",
     "output_type": "stream",
     "text": [
      "1800 30% 8.0693\n"
     ]
    },
    {
     "name": "stderr",
     "output_type": "stream",
     "text": [
      " 32%|███▏      | 1900/6000 [1:42:35<3:38:58,  3.20s/it]"
     ]
    },
    {
     "name": "stdout",
     "output_type": "stream",
     "text": [
      "1900 31% 6.8279\n"
     ]
    },
    {
     "name": "stderr",
     "output_type": "stream",
     "text": [
      " 33%|███▎      | 2000/6000 [1:47:54<3:35:13,  3.23s/it]"
     ]
    },
    {
     "name": "stdout",
     "output_type": "stream",
     "text": [
      "2000 33% 5.8313\n"
     ]
    },
    {
     "name": "stderr",
     "output_type": "stream",
     "text": [
      " 35%|███▌      | 2100/6000 [1:53:14<3:29:26,  3.22s/it]"
     ]
    },
    {
     "name": "stdout",
     "output_type": "stream",
     "text": [
      "2100 35% 5.0300\n"
     ]
    },
    {
     "name": "stderr",
     "output_type": "stream",
     "text": [
      " 37%|███▋      | 2200/6000 [1:58:35<3:19:41,  3.15s/it]"
     ]
    },
    {
     "name": "stdout",
     "output_type": "stream",
     "text": [
      "2200 36% 4.4774\n"
     ]
    },
    {
     "name": "stderr",
     "output_type": "stream",
     "text": [
      " 38%|███▊      | 2300/6000 [2:03:53<3:15:29,  3.17s/it]"
     ]
    },
    {
     "name": "stdout",
     "output_type": "stream",
     "text": [
      "2300 38% 3.8831\n"
     ]
    },
    {
     "name": "stderr",
     "output_type": "stream",
     "text": [
      " 40%|████      | 2400/6000 [2:09:12<3:14:26,  3.24s/it]"
     ]
    },
    {
     "name": "stdout",
     "output_type": "stream",
     "text": [
      "2400 40% 3.3956\n"
     ]
    },
    {
     "name": "stderr",
     "output_type": "stream",
     "text": [
      " 42%|████▏     | 2500/6000 [2:14:30<3:07:52,  3.22s/it]"
     ]
    },
    {
     "name": "stdout",
     "output_type": "stream",
     "text": [
      "2500 41% 3.1158\n"
     ]
    },
    {
     "name": "stderr",
     "output_type": "stream",
     "text": [
      " 43%|████▎     | 2600/6000 [2:19:51<3:05:04,  3.27s/it]"
     ]
    },
    {
     "name": "stdout",
     "output_type": "stream",
     "text": [
      "2600 43% 2.7504\n"
     ]
    },
    {
     "name": "stderr",
     "output_type": "stream",
     "text": [
      " 45%|████▌     | 2700/6000 [2:25:11<2:58:49,  3.25s/it]"
     ]
    },
    {
     "name": "stdout",
     "output_type": "stream",
     "text": [
      "2700 45% 2.5178\n"
     ]
    },
    {
     "name": "stderr",
     "output_type": "stream",
     "text": [
      " 47%|████▋     | 2800/6000 [2:30:32<2:49:51,  3.18s/it]"
     ]
    },
    {
     "name": "stdout",
     "output_type": "stream",
     "text": [
      "2800 46% 2.2916\n"
     ]
    },
    {
     "name": "stderr",
     "output_type": "stream",
     "text": [
      " 48%|████▊     | 2900/6000 [2:36:00<3:01:42,  3.52s/it]"
     ]
    },
    {
     "name": "stdout",
     "output_type": "stream",
     "text": [
      "2900 48% 2.1151\n"
     ]
    },
    {
     "name": "stderr",
     "output_type": "stream",
     "text": [
      " 50%|█████     | 3000/6000 [2:41:55<2:57:55,  3.56s/it]"
     ]
    },
    {
     "name": "stdout",
     "output_type": "stream",
     "text": [
      "3000 50% 1.9520\n"
     ]
    },
    {
     "name": "stderr",
     "output_type": "stream",
     "text": [
      " 52%|█████▏    | 3100/6000 [2:47:31<2:31:28,  3.13s/it]"
     ]
    },
    {
     "name": "stdout",
     "output_type": "stream",
     "text": [
      "3100 51% 1.8115\n"
     ]
    },
    {
     "name": "stderr",
     "output_type": "stream",
     "text": [
      " 53%|█████▎    | 3200/6000 [2:52:51<2:30:29,  3.22s/it]"
     ]
    },
    {
     "name": "stdout",
     "output_type": "stream",
     "text": [
      "3200 53% 1.7177\n"
     ]
    },
    {
     "name": "stderr",
     "output_type": "stream",
     "text": [
      " 55%|█████▌    | 3300/6000 [2:58:14<2:23:09,  3.18s/it]"
     ]
    },
    {
     "name": "stdout",
     "output_type": "stream",
     "text": [
      "3300 55% 1.6042\n"
     ]
    },
    {
     "name": "stderr",
     "output_type": "stream",
     "text": [
      " 57%|█████▋    | 3400/6000 [3:03:30<2:20:11,  3.24s/it]"
     ]
    },
    {
     "name": "stdout",
     "output_type": "stream",
     "text": [
      "3400 56% 1.5264\n"
     ]
    },
    {
     "name": "stderr",
     "output_type": "stream",
     "text": [
      " 58%|█████▊    | 3500/6000 [3:08:46<2:11:49,  3.16s/it]"
     ]
    },
    {
     "name": "stdout",
     "output_type": "stream",
     "text": [
      "3500 58% 1.4589\n"
     ]
    },
    {
     "name": "stderr",
     "output_type": "stream",
     "text": [
      " 60%|██████    | 3600/6000 [3:14:05<2:09:34,  3.24s/it]"
     ]
    },
    {
     "name": "stdout",
     "output_type": "stream",
     "text": [
      "3600 60% 1.4062\n"
     ]
    },
    {
     "name": "stderr",
     "output_type": "stream",
     "text": [
      " 62%|██████▏   | 3700/6000 [3:19:54<2:16:01,  3.55s/it]"
     ]
    },
    {
     "name": "stdout",
     "output_type": "stream",
     "text": [
      "3700 61% 1.3456\n"
     ]
    },
    {
     "name": "stderr",
     "output_type": "stream",
     "text": [
      " 63%|██████▎   | 3800/6000 [3:25:42<1:59:35,  3.26s/it]"
     ]
    },
    {
     "name": "stdout",
     "output_type": "stream",
     "text": [
      "3800 63% 1.3090\n"
     ]
    },
    {
     "name": "stderr",
     "output_type": "stream",
     "text": [
      " 65%|██████▌   | 3900/6000 [3:31:05<1:53:28,  3.24s/it]"
     ]
    },
    {
     "name": "stdout",
     "output_type": "stream",
     "text": [
      "3900 65% 1.2670\n"
     ]
    },
    {
     "name": "stderr",
     "output_type": "stream",
     "text": [
      " 67%|██████▋   | 4000/6000 [3:36:30<1:48:32,  3.26s/it]"
     ]
    },
    {
     "name": "stdout",
     "output_type": "stream",
     "text": [
      "4000 66% 1.2274\n"
     ]
    },
    {
     "name": "stderr",
     "output_type": "stream",
     "text": [
      " 68%|██████▊   | 4100/6000 [3:41:58<1:44:01,  3.29s/it]"
     ]
    },
    {
     "name": "stdout",
     "output_type": "stream",
     "text": [
      "4100 68% 1.2027\n"
     ]
    },
    {
     "name": "stderr",
     "output_type": "stream",
     "text": [
      " 70%|███████   | 4200/6000 [3:47:24<1:38:34,  3.29s/it]"
     ]
    },
    {
     "name": "stdout",
     "output_type": "stream",
     "text": [
      "4200 70% 1.1803\n"
     ]
    },
    {
     "name": "stderr",
     "output_type": "stream",
     "text": [
      " 72%|███████▏  | 4300/6000 [3:52:45<1:29:33,  3.16s/it]"
     ]
    },
    {
     "name": "stdout",
     "output_type": "stream",
     "text": [
      "4300 71% 1.1574\n"
     ]
    },
    {
     "name": "stderr",
     "output_type": "stream",
     "text": [
      " 73%|███████▎  | 4400/6000 [3:58:05<1:27:58,  3.30s/it]"
     ]
    },
    {
     "name": "stdout",
     "output_type": "stream",
     "text": [
      "4400 73% 1.1413\n"
     ]
    },
    {
     "name": "stderr",
     "output_type": "stream",
     "text": [
      " 75%|███████▌  | 4500/6000 [4:03:26<1:19:50,  3.19s/it]"
     ]
    },
    {
     "name": "stdout",
     "output_type": "stream",
     "text": [
      "4500 75% 1.1273\n"
     ]
    },
    {
     "name": "stderr",
     "output_type": "stream",
     "text": [
      " 77%|███████▋  | 4600/6000 [4:08:45<1:13:50,  3.16s/it]"
     ]
    },
    {
     "name": "stdout",
     "output_type": "stream",
     "text": [
      "4600 76% 1.1097\n"
     ]
    },
    {
     "name": "stderr",
     "output_type": "stream",
     "text": [
      " 78%|███████▊  | 4700/6000 [4:14:01<1:07:44,  3.13s/it]"
     ]
    },
    {
     "name": "stdout",
     "output_type": "stream",
     "text": [
      "4700 78% 1.0978\n"
     ]
    },
    {
     "name": "stderr",
     "output_type": "stream",
     "text": [
      " 80%|████████  | 4800/6000 [4:19:22<1:06:01,  3.30s/it]"
     ]
    },
    {
     "name": "stdout",
     "output_type": "stream",
     "text": [
      "4800 80% 1.0914\n"
     ]
    },
    {
     "name": "stderr",
     "output_type": "stream",
     "text": [
      " 82%|████████▏ | 4900/6000 [4:24:47<59:53,  3.27s/it]  "
     ]
    },
    {
     "name": "stdout",
     "output_type": "stream",
     "text": [
      "4900 81% 1.0798\n"
     ]
    },
    {
     "name": "stderr",
     "output_type": "stream",
     "text": [
      " 83%|████████▎ | 5000/6000 [4:30:10<55:26,  3.33s/it]"
     ]
    },
    {
     "name": "stdout",
     "output_type": "stream",
     "text": [
      "5000 83% 1.0746\n"
     ]
    },
    {
     "name": "stderr",
     "output_type": "stream",
     "text": [
      " 85%|████████▌ | 5100/6000 [4:35:38<48:19,  3.22s/it]"
     ]
    },
    {
     "name": "stdout",
     "output_type": "stream",
     "text": [
      "5100 85% 1.0685\n"
     ]
    },
    {
     "name": "stderr",
     "output_type": "stream",
     "text": [
      " 87%|████████▋ | 5200/6000 [4:40:59<43:39,  3.27s/it]"
     ]
    },
    {
     "name": "stdout",
     "output_type": "stream",
     "text": [
      "5200 86% 1.0664\n"
     ]
    },
    {
     "name": "stderr",
     "output_type": "stream",
     "text": [
      " 88%|████████▊ | 5300/6000 [4:46:18<36:32,  3.13s/it]"
     ]
    },
    {
     "name": "stdout",
     "output_type": "stream",
     "text": [
      "5300 88% 1.0610\n"
     ]
    },
    {
     "name": "stderr",
     "output_type": "stream",
     "text": [
      " 90%|█████████ | 5400/6000 [4:51:38<31:57,  3.20s/it]"
     ]
    },
    {
     "name": "stdout",
     "output_type": "stream",
     "text": [
      "5400 90% 1.0584\n"
     ]
    },
    {
     "name": "stderr",
     "output_type": "stream",
     "text": [
      " 92%|█████████▏| 5500/6000 [4:57:01<27:01,  3.24s/it]"
     ]
    },
    {
     "name": "stdout",
     "output_type": "stream",
     "text": [
      "5500 91% 1.0538\n"
     ]
    },
    {
     "name": "stderr",
     "output_type": "stream",
     "text": [
      " 93%|█████████▎| 5600/6000 [5:02:25<21:59,  3.30s/it]"
     ]
    },
    {
     "name": "stdout",
     "output_type": "stream",
     "text": [
      "5600 93% 1.0514\n"
     ]
    },
    {
     "name": "stderr",
     "output_type": "stream",
     "text": [
      " 95%|█████████▌| 5700/6000 [5:07:44<15:58,  3.19s/it]"
     ]
    },
    {
     "name": "stdout",
     "output_type": "stream",
     "text": [
      "5700 95% 1.0490\n"
     ]
    },
    {
     "name": "stderr",
     "output_type": "stream",
     "text": [
      " 97%|█████████▋| 5800/6000 [5:13:01<10:45,  3.23s/it]"
     ]
    },
    {
     "name": "stdout",
     "output_type": "stream",
     "text": [
      "5800 96% 1.0474\n"
     ]
    },
    {
     "name": "stderr",
     "output_type": "stream",
     "text": [
      " 98%|█████████▊| 5900/6000 [5:18:23<05:24,  3.24s/it]"
     ]
    },
    {
     "name": "stdout",
     "output_type": "stream",
     "text": [
      "5900 98% 1.0481\n"
     ]
    },
    {
     "name": "stderr",
     "output_type": "stream",
     "text": [
      "100%|██████████| 6000/6000 [5:23:44<00:00,  3.28s/it]"
     ]
    },
    {
     "name": "stdout",
     "output_type": "stream",
     "text": [
      "6000 100% 1.0454\n"
     ]
    },
    {
     "name": "stderr",
     "output_type": "stream",
     "text": [
      "\n"
     ]
    }
   ],
   "source": [
    "corpusTxt = 'stc2017_14k.txt'\n",
    "######################################\n",
    "\n",
    "#training\n",
    "#import main\n",
    "#!python main.py -tr '../Colab Notebooks/data/corpus60w.txt' -la 1 -hi 512 -lr 0.0001 -it 400 -b 64 -p 100 -s 200 \n",
    "#layer;hidden layer;learning_rate;iteration;batch_size;print/;save/\n",
    "\n",
    "#homePath = '/content/drive/My Drive/Colab Notebooks/seq2seq/'\n",
    "homePath = '/home/seke/jupyter/seq2seq/'\n",
    "dataPath = 'data/'\n",
    "\n",
    "filePath = homePath + dataPath + corpusTxt\n",
    "cmd_line = \"main.py  -tr filePath -la 1 -hi 512 -lr 0.0001 -it 6000 -b 64 -p 100 -s 200\"\n",
    "sys.argv = cmd_line.split()\n",
    "sys.argv[2] = filePath\n",
    "args = pcm.parse()\n",
    "pcm.run(args)"
   ]
  },
  {
   "cell_type": "markdown",
   "metadata": {
    "colab_type": "text",
    "id": "IodSPAyVGDJw"
   },
   "source": [
    "## 後續訓練"
   ]
  },
  {
   "cell_type": "code",
   "execution_count": 2,
   "metadata": {},
   "outputs": [
    {
     "data": {
      "text/plain": [
       "['1000_backup_bidir_model.tar',\n",
       " '1200_backup_bidir_model.tar',\n",
       " '1400_backup_bidir_model.tar',\n",
       " '1600_backup_bidir_model.tar',\n",
       " '1800_backup_bidir_model.tar',\n",
       " '2000_backup_bidir_model.tar',\n",
       " '200_backup_bidir_model.tar',\n",
       " '2200_backup_bidir_model.tar',\n",
       " '2400_backup_bidir_model.tar',\n",
       " '2600_backup_bidir_model.tar',\n",
       " '2800_backup_bidir_model.tar',\n",
       " '3000_backup_bidir_model.tar',\n",
       " '3200_backup_bidir_model.tar',\n",
       " '3400_backup_bidir_model.tar',\n",
       " '3600_backup_bidir_model.tar',\n",
       " '3800_backup_bidir_model.tar',\n",
       " '4000_backup_bidir_model.tar',\n",
       " '400_backup_bidir_model.tar',\n",
       " '4200_backup_bidir_model.tar',\n",
       " '4400_backup_bidir_model.tar',\n",
       " '4600_backup_bidir_model.tar',\n",
       " '4800_backup_bidir_model.tar',\n",
       " '5000_backup_bidir_model.tar',\n",
       " '5200_backup_bidir_model.tar',\n",
       " '5400_backup_bidir_model.tar',\n",
       " '5600_backup_bidir_model.tar',\n",
       " '5800_backup_bidir_model.tar',\n",
       " '6000_backup_bidir_model.tar',\n",
       " '600_backup_bidir_model.tar',\n",
       " '800_backup_bidir_model.tar']"
      ]
     },
     "execution_count": 2,
     "metadata": {},
     "output_type": "execute_result"
    }
   ],
   "source": [
    "corpusTxt = 'stc2017_14k.txt'\n",
    "###############################\n",
    "import os\n",
    "\n",
    "homePath = '/home/seke/jupyter/seq2seq/'\n",
    "dataPath = 'data/'\n",
    "\n",
    "filePath = homePath + dataPath + corpusTxt\n",
    "modelFileDir = homePath + 'save/model/' + corpusTxt[:-4] + '/1-1_512/' \n",
    "\n",
    "sorted(os.listdir(modelFileDir))"
   ]
  },
  {
   "cell_type": "code",
   "execution_count": 3,
   "metadata": {
    "colab": {},
    "colab_type": "code",
    "id": "oXBh5EBmGCTp"
   },
   "outputs": [
    {
     "name": "stdout",
     "output_type": "stream",
     "text": [
      "Start loading training data ...\n",
      "Training pairs not found, generating ...\n",
      "Building encoder and decoder ...\n"
     ]
    },
    {
     "name": "stderr",
     "output_type": "stream",
     "text": [
      "\r",
      "  0%|          | 0/1000 [00:00<?, ?it/s]"
     ]
    },
    {
     "name": "stdout",
     "output_type": "stream",
     "text": [
      "Building optimizers ...\n",
      "Initializing ...\n"
     ]
    },
    {
     "name": "stderr",
     "output_type": "stream",
     "text": [
      " 10%|█         | 100/1000 [05:28<49:24,  3.29s/it]"
     ]
    },
    {
     "name": "stdout",
     "output_type": "stream",
     "text": [
      "6100 87% 1.0433\n"
     ]
    },
    {
     "name": "stderr",
     "output_type": "stream",
     "text": [
      " 20%|██        | 200/1000 [10:55<44:32,  3.34s/it]"
     ]
    },
    {
     "name": "stdout",
     "output_type": "stream",
     "text": [
      "6200 88% 1.0424\n"
     ]
    },
    {
     "name": "stderr",
     "output_type": "stream",
     "text": [
      " 30%|███       | 300/1000 [16:24<39:31,  3.39s/it]"
     ]
    },
    {
     "name": "stdout",
     "output_type": "stream",
     "text": [
      "6300 90% 1.0372\n"
     ]
    },
    {
     "name": "stderr",
     "output_type": "stream",
     "text": [
      " 40%|████      | 400/1000 [21:56<33:21,  3.34s/it]"
     ]
    },
    {
     "name": "stdout",
     "output_type": "stream",
     "text": [
      "6400 91% 1.0367\n"
     ]
    },
    {
     "name": "stderr",
     "output_type": "stream",
     "text": [
      " 50%|█████     | 500/1000 [27:49<29:41,  3.56s/it]"
     ]
    },
    {
     "name": "stdout",
     "output_type": "stream",
     "text": [
      "6500 92% 1.0344\n"
     ]
    },
    {
     "name": "stderr",
     "output_type": "stream",
     "text": [
      " 60%|█████▉    | 599/1000 [33:39<21:43,  3.25s/it]"
     ]
    },
    {
     "name": "stdout",
     "output_type": "stream",
     "text": [
      "6600 94% 1.0341\n"
     ]
    },
    {
     "name": "stderr",
     "output_type": "stream",
     "text": [
      " 70%|███████   | 700/1000 [39:07<15:55,  3.18s/it]"
     ]
    },
    {
     "name": "stdout",
     "output_type": "stream",
     "text": [
      "6700 95% 1.0320\n"
     ]
    },
    {
     "name": "stderr",
     "output_type": "stream",
     "text": [
      " 80%|████████  | 800/1000 [44:29<10:46,  3.23s/it]"
     ]
    },
    {
     "name": "stdout",
     "output_type": "stream",
     "text": [
      "6800 97% 1.0332\n"
     ]
    },
    {
     "name": "stderr",
     "output_type": "stream",
     "text": [
      " 90%|█████████ | 900/1000 [49:51<05:24,  3.24s/it]"
     ]
    },
    {
     "name": "stdout",
     "output_type": "stream",
     "text": [
      "6900 98% 1.0341\n"
     ]
    },
    {
     "name": "stderr",
     "output_type": "stream",
     "text": [
      "100%|██████████| 1000/1000 [55:16<00:00,  3.36s/it]"
     ]
    },
    {
     "name": "stdout",
     "output_type": "stream",
     "text": [
      "7000 100% 1.0340\n"
     ]
    },
    {
     "name": "stderr",
     "output_type": "stream",
     "text": [
      "\n"
     ]
    }
   ],
   "source": [
    "corpusTxt = 'stc2017_14k.txt'\n",
    "from_iteration = 6000\n",
    "###############################\n",
    "\n",
    "#filePath = '/content/drive/My Drive/Colab Notebooks/nlp_jp/data/corpus1218.txt'\n",
    "#filePath = '/content/drive/My Drive/Colab Notebooks/nlp_jp/data/' + seg_corpus_name + '.txt'\n",
    "#modelPath = '/content/drive/My Drive/Colab Notebooks/nlp_jp/save/model/' + seg_corpus_name + '/1-1_512/' + str(iteration) + '_backup_bidir_model.tar'\n",
    "\n",
    "homePath = '/home/seke/jupyter/seq2seq/'\n",
    "dataPath = 'data/'\n",
    "\n",
    "filePath = homePath + dataPath + corpusTxt\n",
    "modelPath = homePath + 'save/model/' + corpusTxt[:-4] + '/1-1_512/' + str(from_iteration) + '_backup_bidir_model.tar'\n",
    "#modelPath = homePath + 'translate2019/' + 'save/model/' + corpusTxt[:-4] + '/1-1_512/' + str(iteration) + '_backup_bidir_model.tar'\n",
    "\n",
    "cmd_line = \"main.py -tr filePath -l modelPath -lr 0.0001 -it 7000 -b 64 -p 100 -s 200\"\n",
    "sys.argv = cmd_line.split()\n",
    "sys.argv[2] = filePath\n",
    "sys.argv[4] = modelPath\n",
    "args = pcm.parse()\n",
    "pcm.run(args)\n"
   ]
  },
  {
   "cell_type": "markdown",
   "metadata": {
    "colab_type": "text",
    "id": "T9CEcFkEA80l"
   },
   "source": [
    "# 模型測試"
   ]
  },
  {
   "cell_type": "markdown",
   "metadata": {
    "colab_type": "text",
    "id": "816vJpvwSsIk"
   },
   "source": [
    "能執行測試的條件有三\n",
    "\n",
    "1.   有安裝torch套件\n",
    "2.   有連結網路硬碟及切換工作目錄為  \n",
    "        /content/drive/My Drive/Colab Notebooks/seq2seq\n",
    "3.   有模型及語料字典檔    \n",
    "        /content/drive/My Drive/Colab Notebooks/seq2seq/data/stc2017_14k.txt     \n",
    "        /content/drive/My Drive/Colab Notebooks/seq2seq/save/training_data/stc2017_14k/400_training_batches_64.tar     \n",
    "        /content/drive/My Drive/Colab Notebooks/seq2seq/save/training_data/stc2017_14k/pairs.tar    \n",
    "        /content/drive/My Drive/Colab Notebooks/seq2seq/save/training_data/stc2017_14k/voc.tar  \n",
    "        /content/drive/My Drive/Colab Notebooks/seq2seq/save/training_data/stc2017_14k/1-1_512/400_backup_bidir_model.tar"
   ]
  },
  {
   "cell_type": "markdown",
   "metadata": {
    "colab_type": "text",
    "id": "SwAyLpIIK2fg"
   },
   "source": [
    "定義載入模型方法predictLoad()及預測答句方法predict()"
   ]
  },
  {
   "cell_type": "code",
   "execution_count": 20,
   "metadata": {
    "colab": {},
    "colab_type": "code",
    "id": "T2TW-zwdDfu8"
   },
   "outputs": [],
   "source": [
    "import torch\n",
    "import random\n",
    "from pytorch_chatbot.train import indexesFromSentence\n",
    "from pytorch_chatbot.load import loadPrepareData\n",
    "from pytorch_chatbot.model import nn, EncoderRNN, LuongAttnDecoderRNN\n",
    "\n",
    "USE_CUDA = torch.cuda.is_available()\n",
    "device = torch.device(\"cuda\" if USE_CUDA else \"cpu\")\n",
    "\n",
    "#runTest(n_layers, hidden_size, reverse, modelFile, beam_size, inp, corpus):\n",
    "\n",
    "def predictLoad(corpus, modelFile, n_layers=1, hidden_size=512):\n",
    "  torch.set_grad_enabled(False)\n",
    "  voc, pairs = loadPrepareData(corpus)\n",
    "  embedding = nn.Embedding(voc.n_words, hidden_size)\n",
    "  encoder = EncoderRNN(voc.n_words, hidden_size, embedding, n_layers)\n",
    "  attn_model = 'dot'\n",
    "  decoder = LuongAttnDecoderRNN(attn_model, embedding, hidden_size, voc.n_words, n_layers)\n",
    "\n",
    "  checkpoint = torch.load(modelFile)\n",
    "  encoder.load_state_dict(checkpoint['en'])\n",
    "  decoder.load_state_dict(checkpoint['de'])\n",
    "\n",
    "  # train mode set to false, effect only on dropout, batchNorm\n",
    "  encoder.train(False)\n",
    "  decoder.train(False)\n",
    "\n",
    "  encoder = encoder.to(device)\n",
    "  decoder = decoder.to(device)\n",
    "  \n",
    "  return encoder, decoder, voc\n",
    "\n",
    "def predict(encoder, decoder, voc, question, top):\n",
    "  #question = '今天'\n",
    "  #question = '现在 刷 朋友 圈 最大 的 快乐 就是 看 代购 们 各种 直播 '\n",
    "  result_list = []\n",
    "\n",
    "  if(top==1):\n",
    "    beam_size = 1\n",
    "    output_words, _ = pce.evaluate(encoder, decoder, voc, question, beam_size)\n",
    "    answer = ' '.join(output_words)\n",
    "    answer = answer.replace('<EOS>','')\n",
    "    result_list.append(answer)\n",
    "    #print(output_words)\n",
    "  else:\n",
    "    beam_size = top\n",
    "    output_words_list = pce.evaluate(encoder, decoder, voc, question, beam_size)\n",
    "    count = 0;\n",
    "    for output_words, score in output_words_list:\n",
    "      count = count + 1\n",
    "      if(count <= top):\n",
    "        output_sentence = ' '.join(output_words)\n",
    "        output_sentence = output_sentence.replace('<EOS>','')\n",
    "        result_list.append(output_sentence)\n",
    "        #print(\" {:.3f} < {}\".format(score, output_sentence))\n",
    "  \n",
    "  return result_list\n",
    "\n",
    "def filter(voc, question):\n",
    "  words = question.split()\n",
    "  result = []\n",
    "  for w in words:\n",
    "    if(w in voc.word2index):\n",
    "      result.append(w) \n",
    "  return ' '.join(result)"
   ]
  },
  {
   "cell_type": "markdown",
   "metadata": {
    "colab_type": "text",
    "id": "aPQnTjymG8Pw"
   },
   "source": [
    "設定參數，呼叫方法，載入模型，進行答句預測"
   ]
  },
  {
   "cell_type": "code",
   "execution_count": 22,
   "metadata": {
    "colab": {
     "base_uri": "https://localhost:8080/",
     "height": 13634
    },
    "colab_type": "code",
    "executionInfo": {
     "elapsed": 51361,
     "status": "ok",
     "timestamp": 1542768861814,
     "user": {
      "displayName": "broadcast seke",
      "photoUrl": "https://lh3.googleusercontent.com/-au9Xrs4fCsQ/AAAAAAAAAAI/AAAAAAAAArM/4SGRgg_M288/s64/photo.jpg",
      "userId": "14328858031672786232"
     },
     "user_tz": -480
    },
    "id": "94jLQ1qo3cPU",
    "outputId": "bb1d683b-71dd-4099-c1a6-0c676c6d6b20"
   },
   "outputs": [
    {
     "name": "stdout",
     "output_type": "stream",
     "text": [
      "Start loading training data ...\n"
     ]
    }
   ],
   "source": [
    "corpusTxt = 'stc2017_14k.txt'\n",
    "iteration = 6000\n",
    "top = 2\n",
    "###################################\n",
    "\n",
    "n_layers = 1\n",
    "hidden_size = 512\n",
    "\n",
    "#reverse = false\n",
    "# /content/drive/My Drive/Colab Notebooks/stc3/save/training_data/corpus2018/voc.tar, pairs.tar, ..training_batches_64.tar\n",
    "\n",
    "#homePath = '/content/drive/My Drive/Colab Notebooks/seq2seq/'\n",
    "homePath = '/home/seke/jupyter/seq2seq/'\n",
    "modelFile = homePath + 'save/model/' + corpusTxt[:-4] + '/1-1_512/' + str(iteration) + '_backup_bidir_model.tar'\n",
    "\n",
    "en, de, voc = predictLoad(corpusTxt[:-4], modelFile, n_layers, hidden_size)\n"
   ]
  },
  {
   "cell_type": "markdown",
   "metadata": {
    "colab_type": "text",
    "id": "gT0dVRabDuqk"
   },
   "source": [
    "## 批次測試"
   ]
  },
  {
   "cell_type": "code",
   "execution_count": 23,
   "metadata": {},
   "outputs": [],
   "source": [
    "corpusTxt = 'stc2017_14k.txt'\n",
    "######################################\n",
    "import codecs\n",
    "\n",
    "#homePath = '/content/drive/My Drive/Colab Notebooks/seq2seq/'\n",
    "homePath = '/home/seke/jupyter/seq2seq/'\n",
    "dataPath = 'data/'\n",
    "\n",
    "filePath = homePath + dataPath + corpusTxt\n",
    "\n",
    "with codecs.open(filePath, \"r\", \"utf-8\") as f:\n",
    "    corpus_raw = f.readlines()\n",
    "\n",
    "corpus_raw2 = [line.strip() for line in corpus_raw]\n",
    "\n",
    "corpus_test = {}\n",
    "corpus_test['question'] = corpus_raw2[0::2]\n",
    "corpus_test['answer'] = corpus_raw2[1::2]"
   ]
  },
  {
   "cell_type": "code",
   "execution_count": 29,
   "metadata": {
    "colab": {},
    "colab_type": "code",
    "id": "8uok_-HvDsKy"
   },
   "outputs": [
    {
     "name": "stdout",
     "output_type": "stream",
     "text": [
      "  1, question: '就是 太 小 了 ， 哎'\n",
      "       filter: '就是 太 小 了 ， 哎'\n",
      "\t'所以 我 霸占 了 两 个 位置 ~ 哈 哈哈 ~ '\n",
      "\t'所以 我 霸占 了 两 个 位置 ~ 哈 哈哈 。 '\n",
      "\t'所以 我 霸占 了 两 个 位置 ~ 哈 哈哈 … '\n",
      "\t'所以 我 霸占 了 两 个 位置 ~ 哈 哈哈 色 了 '\n",
      "\t'所以 我 霸占 了 两 个 位置 ~ 哈 哈哈 ~ ~ '\n",
      "  2, question: '作弊'\n",
      "       filter: '作弊'\n",
      "\t'我 这 不 叫 作弊 ， 称为 “ 观望 ” '\n",
      "\t'我 这 不 叫 作弊 ， 称为 “ 观望 地 '\n",
      "\t'我 这 不 叫 作弊 ， 称为 “ ” ” '\n",
      "\t'我 这 不 叫 作弊 ， 要不 怎么 吓 死 我 ！ '\n",
      "\t'我 这 不 叫 作弊 ， 要不 怎么 吓 死 你 '\n",
      "  3, question: '花 姐 看 啊 快乐 大本营 。 。 ~'\n",
      "       filter: '花 姐 看 啊 快乐 大本营 。 。 ~'\n",
      "\t'哈哈 ， 花 姐 快 睡 了 哈 。 晚安 ， 爱 你 '\n",
      "\t'哈哈 ， 花 姐 快 睡 了 哈 。 晚安 ， 爱 '\n",
      "\t'哈哈 ， 花 姐 快 睡 了 哈 。 晚安 '\n",
      "\t'哈哈 ， 花 姐 快 睡 了 哈 。 晚安 ， 爱 你们 '\n",
      "\t'哈哈 ， 花 姐 快 睡 了 。 晚安 ， 爱 你 '\n",
      "  4, question: '我 呢'\n",
      "       filter: '我 呢'\n",
      "\t'哈哈 ， 算 上 你 ， 她 遇上 两 个 了 ！ '\n",
      "\t'哈哈 ， 算 上 你 ， 她 遇上 两 个 了 '\n",
      "\t'哈哈 ， 算 上 你 ， 她 遇上 两 个 了 。 '\n",
      "\t'哈哈 ， 算 啊 ， 下次 再 组织 帮 你 。 '\n",
      "\t'哈哈 ， 算 上 你 ， 她 遇上 两 碗 了 ！ '\n",
      "  5, question: '哈哈 你们 还有 骑行 活动 的 啊 。'\n",
      "       filter: '哈哈 你们 还有 骑行 活动 的 啊 。'\n",
      "\t'是 呀 哈哈 ！ '\n",
      "\t'是 呀 是 呀 ！ 哈哈 … '\n",
      "\t'是 呀 是 呀 ！ 哈哈 '\n",
      "\t'是 但是 太 皮 了 。 哈哈 ！ '\n",
      "\t'是 呀 是 呀 哈哈 ！ '\n",
      "  6, question: '看来 你 是 一个 真 性情 之 人 ， 敢 爱 敢 恨 的 那种 ！'\n",
      "       filter: '看来 你 是 一个 真 性情 之 人 ， 敢 爱 敢 恨 的 那种 ！'\n",
      "\t'哈哈 。 '\n",
      "\t'哈哈 。 好 吧 。 '\n",
      "\t'哈哈 。 今天 早点 休息 的 是 孩子 伤 不 起 '\n",
      "\t'哈哈 。 今天 早点 休息 。 '\n",
      "\t'哈哈 。 今天 要 不要 不要 。 你 比 我 的 。 '\n",
      "  7, question: '外国 的 天空 很 蓝 ！ 晚上 多 星星 吗 ！ ！'\n",
      "       filter: '外国 的 天空 很 蓝 ！ 晚上 多 星星 吗 ！ ！'\n",
      "\t'除了 夏威夷 晚上 看到 明亮 的 星星 ， 其他 时间 没有 留意 哦 '\n",
      "\t'除了 夏威夷 晚上 看到 明亮 的 星星 '\n",
      "\t'除了 夏威夷 晚上 看到 明亮 的 星星 ， 其他 时间 没有 留意 留意 哦 '\n",
      "\t'除了 夏威夷 晚上 看到 明亮 的 星星 ， 其他 时间 没有 留意 啊 '\n",
      "\t'除了 夏威夷 晚上 看到 明亮 的 星星 ， 其他 时间 没有 留意 留意 '\n",
      "  8, question: '多 吃 不 长 肉 , 有 这么 神奇 的 东东 吗 ? 37'\n",
      "       filter: '多 吃 不 长 肉 , 有 这么 神奇 的 东东 吗 ? 37'\n",
      "\t'西湖 银 泰 礼券 吃 多 了 不 长 肉 '\n",
      "\t'西湖 银 泰 礼券 多 吃 多 了 不 长 肉 '\n",
      "\t'西湖 银 泰 礼券 吃 多 了 不 就 一样 '\n",
      "\t'西湖 银 泰 礼券 吃 多 了 不 一样 '\n",
      "\t'西湖 银 泰 礼券 吃 多 了 不 一样 长 肉 '\n",
      "  9, question: '老 南宁 已 走 远'\n",
      "       filter: '老 南宁 已 走 远'\n",
      "\t'像 于丹 这样 的 学者 ， 只能 使 国学 走向 空虚 ！ '\n",
      "\t'像 于丹 这样 的 学者 ， 只能 使 国学 走向 空虚 '\n",
      "\t'像 于丹 这样 的 学者 ， 只能 牺牲 我 自己 了 '\n",
      "\t'像 于丹 这样 的 学者 ， 只能 使 国学 空虚 ！ '\n",
      "\t'像 于丹 这样 的 学者 ， 只能 使 国学 空虚 寂寞 ！ '\n",
      " 10, question: '打来 木 。'\n",
      "       filter: '打来 木 。'\n",
      "\t'好 啊 。 我 号码 又 忘 了 。 ！ '\n",
      "\t'好 啊 。 我 号码 又 忘 了 ！ ！ '\n",
      "\t'好 啊 。 我 号码 又 忘 了 。 ！ ！ '\n",
      "\t'好 啊 ， 我 羡慕 嫉妒 恨 了 '\n",
      "\t'好 啊 。 我 号码 又 忘 了 ！ ！ ！ '\n"
     ]
    }
   ],
   "source": [
    "test_no = 10\n",
    "top = 5\n",
    "#######################################\n",
    "corpus_test2 = {'question':corpus_test['question'][0:test_no], 'answer':corpus_test['answer'][0:test_no]}\n",
    "count=0\n",
    "answer_list = []\n",
    "for question in corpus_test2['question']:\n",
    "  count = count + 1\n",
    "  question2 = filter(voc, question)\n",
    "  result = predict(en, de, voc, question2, top)\n",
    "  print(\"%3d, question: '%s'\\n       filter: '%s'\" % (count,question,question2))\n",
    "  answer_list.append(result[0])\n",
    "  for answer in result:\n",
    "    print(\"\\t'%s'\" % (answer))"
   ]
  },
  {
   "cell_type": "markdown",
   "metadata": {
    "colab_type": "text",
    "id": "d6749wBiMC4d"
   },
   "source": [
    "以表格呈現模型預測的第1答句"
   ]
  },
  {
   "cell_type": "code",
   "execution_count": 31,
   "metadata": {
    "colab": {
     "base_uri": "https://localhost:8080/",
     "height": 1289
    },
    "colab_type": "code",
    "executionInfo": {
     "elapsed": 940,
     "status": "ok",
     "timestamp": 1542768875244,
     "user": {
      "displayName": "broadcast seke",
      "photoUrl": "https://lh3.googleusercontent.com/-au9Xrs4fCsQ/AAAAAAAAAAI/AAAAAAAAArM/4SGRgg_M288/s64/photo.jpg",
      "userId": "14328858031672786232"
     },
     "user_tz": -480
    },
    "id": "e6oJj6gu7FIa",
    "outputId": "6658d55e-d2c3-49da-86b4-013d919974d9"
   },
   "outputs": [
    {
     "data": {
      "text/html": [
       "<div>\n",
       "<style scoped>\n",
       "    .dataframe tbody tr th:only-of-type {\n",
       "        vertical-align: middle;\n",
       "    }\n",
       "\n",
       "    .dataframe tbody tr th {\n",
       "        vertical-align: top;\n",
       "    }\n",
       "\n",
       "    .dataframe thead th {\n",
       "        text-align: right;\n",
       "    }\n",
       "</style>\n",
       "<table border=\"1\" class=\"dataframe\">\n",
       "  <thead>\n",
       "    <tr style=\"text-align: right;\">\n",
       "      <th></th>\n",
       "      <th>question</th>\n",
       "      <th>answer</th>\n",
       "    </tr>\n",
       "  </thead>\n",
       "  <tbody>\n",
       "    <tr>\n",
       "      <th>0</th>\n",
       "      <td>就是 太 小 了 ， 哎</td>\n",
       "      <td>所以 我 霸占 了 两 个 位置 ~ 哈 哈哈 ~</td>\n",
       "    </tr>\n",
       "    <tr>\n",
       "      <th>1</th>\n",
       "      <td>作弊</td>\n",
       "      <td>我 这 不 叫 作弊 ， 称为 “ 观望 ”</td>\n",
       "    </tr>\n",
       "    <tr>\n",
       "      <th>2</th>\n",
       "      <td>花 姐 看 啊 快乐 大本营 。 。 ~</td>\n",
       "      <td>哈哈 ， 花 姐 快 睡 了 哈 。 晚安 ， 爱 你</td>\n",
       "    </tr>\n",
       "    <tr>\n",
       "      <th>3</th>\n",
       "      <td>我 呢</td>\n",
       "      <td>哈哈 ， 算 上 你 ， 她 遇上 两 个 了 ！</td>\n",
       "    </tr>\n",
       "    <tr>\n",
       "      <th>4</th>\n",
       "      <td>哈哈 你们 还有 骑行 活动 的 啊 。</td>\n",
       "      <td>是 呀 哈哈 ！</td>\n",
       "    </tr>\n",
       "    <tr>\n",
       "      <th>5</th>\n",
       "      <td>看来 你 是 一个 真 性情 之 人 ， 敢 爱 敢 恨 的 那种 ！</td>\n",
       "      <td>哈哈 。</td>\n",
       "    </tr>\n",
       "    <tr>\n",
       "      <th>6</th>\n",
       "      <td>外国 的 天空 很 蓝 ！ 晚上 多 星星 吗 ！ ！</td>\n",
       "      <td>除了 夏威夷 晚上 看到 明亮 的 星星 ， 其他 时间 没有 留意 哦</td>\n",
       "    </tr>\n",
       "    <tr>\n",
       "      <th>7</th>\n",
       "      <td>多 吃 不 长 肉 , 有 这么 神奇 的 东东 吗 ? 37</td>\n",
       "      <td>西湖 银 泰 礼券 吃 多 了 不 长 肉</td>\n",
       "    </tr>\n",
       "    <tr>\n",
       "      <th>8</th>\n",
       "      <td>老 南宁 已 走 远</td>\n",
       "      <td>像 于丹 这样 的 学者 ， 只能 使 国学 走向 空虚 ！</td>\n",
       "    </tr>\n",
       "    <tr>\n",
       "      <th>9</th>\n",
       "      <td>打来 木 。</td>\n",
       "      <td>好 啊 。 我 号码 又 忘 了 。 ！</td>\n",
       "    </tr>\n",
       "  </tbody>\n",
       "</table>\n",
       "</div>"
      ],
      "text/plain": [
       "                              question                                 answer\n",
       "0                         就是 太 小 了 ， 哎             所以 我 霸占 了 两 个 位置 ~ 哈 哈哈 ~ \n",
       "1                                   作弊                我 这 不 叫 作弊 ， 称为 “ 观望 ” \n",
       "2                 花 姐 看 啊 快乐 大本营 。 。 ~           哈哈 ， 花 姐 快 睡 了 哈 。 晚安 ， 爱 你 \n",
       "3                                  我 呢             哈哈 ， 算 上 你 ， 她 遇上 两 个 了 ！ \n",
       "4                 哈哈 你们 还有 骑行 活动 的 啊 。                              是 呀 哈哈 ！ \n",
       "5  看来 你 是 一个 真 性情 之 人 ， 敢 爱 敢 恨 的 那种 ！                                  哈哈 。 \n",
       "6          外国 的 天空 很 蓝 ！ 晚上 多 星星 吗 ！ ！  除了 夏威夷 晚上 看到 明亮 的 星星 ， 其他 时间 没有 留意 哦 \n",
       "7      多 吃 不 长 肉 , 有 这么 神奇 的 东东 吗 ? 37                 西湖 银 泰 礼券 吃 多 了 不 长 肉 \n",
       "8                           老 南宁 已 走 远        像 于丹 这样 的 学者 ， 只能 使 国学 走向 空虚 ！ \n",
       "9                               打来 木 。                  好 啊 。 我 号码 又 忘 了 。 ！ "
      ]
     },
     "execution_count": 31,
     "metadata": {},
     "output_type": "execute_result"
    }
   ],
   "source": [
    "pd_test2 = pd.DataFrame(index=range(len(corpus_test2['question'])), \n",
    "                        data={'question':corpus_test2['question'], \n",
    "                              'answer':answer_list},\n",
    "                       columns=['question','answer'])\n",
    "\n",
    "pd_test2"
   ]
  },
  {
   "cell_type": "markdown",
   "metadata": {
    "colab_type": "text",
    "id": "PtTh2UBoD1T4"
   },
   "source": [
    "## 手動測試"
   ]
  },
  {
   "cell_type": "code",
   "execution_count": 33,
   "metadata": {
    "colab": {},
    "colab_type": "code",
    "id": "uIN8hmwkD5ZX"
   },
   "outputs": [
    {
     "name": "stdout",
     "output_type": "stream",
     "text": [
      " 10, question: '终于 有 酒 喝 了 ! 希望 不会 喝 趴下'\n",
      "       filter: '终于 有 酒 喝 了 ! 希望 不会 喝 趴下'\n",
      "\t'嘿嘿 当然 啦 。 '\n",
      "\t'嘿嘿 当然 啦 '\n",
      "\t'嘿嘿 晚上 喝 到 晚上 '\n",
      "\t'嘿嘿 。 。 '\n",
      "\t'嘿嘿 晚上 喝 到 晚上 你 翻 就 翻 来 了 ！ '\n"
     ]
    }
   ],
   "source": [
    "question = '终于 有 酒 喝 了 ! 希望 不会 喝 趴下'\n",
    "#########################################\n",
    "\n",
    "question2 = filter(voc, question)\n",
    "result = predict(en, de, voc, question2, top)\n",
    "print(\"%3d, question: '%s'\\n       filter: '%s'\" % (count,question,question2))\n",
    "#answer_list.append(result[0])\n",
    "for answer in result:\n",
    "    print(\"\\t'%s'\" % (answer))"
   ]
  },
  {
   "cell_type": "code",
   "execution_count": 34,
   "metadata": {
    "colab": {},
    "colab_type": "code",
    "id": "P2m4H9UWENOV"
   },
   "outputs": [
    {
     "name": "stdout",
     "output_type": "stream",
     "text": [
      "Start loading training data ...\n",
      "Segmented Question Input: 喝 到 晚上\n",
      "source: '喝 到 晚上'\n",
      "filter: '喝 到 晚上'\n",
      "\t'有 没有 什么 方法 能 尽快 买 到 '\n",
      "\t'有 没有 什么 方法 能 尽快 买 回来 '\n"
     ]
    },
    {
     "ename": "KeyboardInterrupt",
     "evalue": "",
     "output_type": "error",
     "traceback": [
      "\u001b[0;31m---------------------------------------------------------------------------\u001b[0m",
      "\u001b[0;31mKeyboardInterrupt\u001b[0m                         Traceback (most recent call last)",
      "\u001b[0;32m~/.conda/envs/chatbot/lib/python3.6/site-packages/ipykernel/kernelbase.py\u001b[0m in \u001b[0;36m_input_request\u001b[0;34m(self, prompt, ident, parent, password)\u001b[0m\n\u001b[1;32m    877\u001b[0m             \u001b[0;32mtry\u001b[0m\u001b[0;34m:\u001b[0m\u001b[0;34m\u001b[0m\u001b[0;34m\u001b[0m\u001b[0m\n\u001b[0;32m--> 878\u001b[0;31m                 \u001b[0mident\u001b[0m\u001b[0;34m,\u001b[0m \u001b[0mreply\u001b[0m \u001b[0;34m=\u001b[0m \u001b[0mself\u001b[0m\u001b[0;34m.\u001b[0m\u001b[0msession\u001b[0m\u001b[0;34m.\u001b[0m\u001b[0mrecv\u001b[0m\u001b[0;34m(\u001b[0m\u001b[0mself\u001b[0m\u001b[0;34m.\u001b[0m\u001b[0mstdin_socket\u001b[0m\u001b[0;34m,\u001b[0m \u001b[0;36m0\u001b[0m\u001b[0;34m)\u001b[0m\u001b[0;34m\u001b[0m\u001b[0;34m\u001b[0m\u001b[0m\n\u001b[0m\u001b[1;32m    879\u001b[0m             \u001b[0;32mexcept\u001b[0m \u001b[0mException\u001b[0m\u001b[0;34m:\u001b[0m\u001b[0;34m\u001b[0m\u001b[0;34m\u001b[0m\u001b[0m\n",
      "\u001b[0;32m~/.conda/envs/chatbot/lib/python3.6/site-packages/jupyter_client/session.py\u001b[0m in \u001b[0;36mrecv\u001b[0;34m(self, socket, mode, content, copy)\u001b[0m\n\u001b[1;32m    802\u001b[0m         \u001b[0;32mtry\u001b[0m\u001b[0;34m:\u001b[0m\u001b[0;34m\u001b[0m\u001b[0;34m\u001b[0m\u001b[0m\n\u001b[0;32m--> 803\u001b[0;31m             \u001b[0mmsg_list\u001b[0m \u001b[0;34m=\u001b[0m \u001b[0msocket\u001b[0m\u001b[0;34m.\u001b[0m\u001b[0mrecv_multipart\u001b[0m\u001b[0;34m(\u001b[0m\u001b[0mmode\u001b[0m\u001b[0;34m,\u001b[0m \u001b[0mcopy\u001b[0m\u001b[0;34m=\u001b[0m\u001b[0mcopy\u001b[0m\u001b[0;34m)\u001b[0m\u001b[0;34m\u001b[0m\u001b[0;34m\u001b[0m\u001b[0m\n\u001b[0m\u001b[1;32m    804\u001b[0m         \u001b[0;32mexcept\u001b[0m \u001b[0mzmq\u001b[0m\u001b[0;34m.\u001b[0m\u001b[0mZMQError\u001b[0m \u001b[0;32mas\u001b[0m \u001b[0me\u001b[0m\u001b[0;34m:\u001b[0m\u001b[0;34m\u001b[0m\u001b[0;34m\u001b[0m\u001b[0m\n",
      "\u001b[0;32m~/.conda/envs/chatbot/lib/python3.6/site-packages/zmq/sugar/socket.py\u001b[0m in \u001b[0;36mrecv_multipart\u001b[0;34m(self, flags, copy, track)\u001b[0m\n\u001b[1;32m    469\u001b[0m         \"\"\"\n\u001b[0;32m--> 470\u001b[0;31m         \u001b[0mparts\u001b[0m \u001b[0;34m=\u001b[0m \u001b[0;34m[\u001b[0m\u001b[0mself\u001b[0m\u001b[0;34m.\u001b[0m\u001b[0mrecv\u001b[0m\u001b[0;34m(\u001b[0m\u001b[0mflags\u001b[0m\u001b[0;34m,\u001b[0m \u001b[0mcopy\u001b[0m\u001b[0;34m=\u001b[0m\u001b[0mcopy\u001b[0m\u001b[0;34m,\u001b[0m \u001b[0mtrack\u001b[0m\u001b[0;34m=\u001b[0m\u001b[0mtrack\u001b[0m\u001b[0;34m)\u001b[0m\u001b[0;34m]\u001b[0m\u001b[0;34m\u001b[0m\u001b[0;34m\u001b[0m\u001b[0m\n\u001b[0m\u001b[1;32m    471\u001b[0m         \u001b[0;31m# have first part already, only loop while more to receive\u001b[0m\u001b[0;34m\u001b[0m\u001b[0;34m\u001b[0m\u001b[0;34m\u001b[0m\u001b[0m\n",
      "\u001b[0;32mzmq/backend/cython/socket.pyx\u001b[0m in \u001b[0;36mzmq.backend.cython.socket.Socket.recv\u001b[0;34m()\u001b[0m\n",
      "\u001b[0;32mzmq/backend/cython/socket.pyx\u001b[0m in \u001b[0;36mzmq.backend.cython.socket.Socket.recv\u001b[0;34m()\u001b[0m\n",
      "\u001b[0;32mzmq/backend/cython/socket.pyx\u001b[0m in \u001b[0;36mzmq.backend.cython.socket._recv_copy\u001b[0;34m()\u001b[0m\n",
      "\u001b[0;32m~/.conda/envs/chatbot/lib/python3.6/site-packages/zmq/backend/cython/checkrc.pxd\u001b[0m in \u001b[0;36mzmq.backend.cython.checkrc._check_rc\u001b[0;34m()\u001b[0m\n",
      "\u001b[0;31mKeyboardInterrupt\u001b[0m: ",
      "\nDuring handling of the above exception, another exception occurred:\n",
      "\u001b[0;31mKeyboardInterrupt\u001b[0m                         Traceback (most recent call last)",
      "\u001b[0;32m<ipython-input-34-3e7539084c3a>\u001b[0m in \u001b[0;36m<module>\u001b[0;34m\u001b[0m\n\u001b[1;32m     19\u001b[0m \u001b[0;34m\u001b[0m\u001b[0m\n\u001b[1;32m     20\u001b[0m \u001b[0;32mwhile\u001b[0m\u001b[0;34m(\u001b[0m\u001b[0;32mTrue\u001b[0m\u001b[0;34m)\u001b[0m\u001b[0;34m:\u001b[0m\u001b[0;34m\u001b[0m\u001b[0;34m\u001b[0m\u001b[0m\n\u001b[0;32m---> 21\u001b[0;31m   \u001b[0msource\u001b[0m \u001b[0;34m=\u001b[0m \u001b[0minput\u001b[0m\u001b[0;34m(\u001b[0m\u001b[0;34m\"Segmented Question Input: \"\u001b[0m\u001b[0;34m)\u001b[0m\u001b[0;34m\u001b[0m\u001b[0;34m\u001b[0m\u001b[0m\n\u001b[0m\u001b[1;32m     22\u001b[0m   \u001b[0;31m#seg_source = mecab_parse_space(source)\u001b[0m\u001b[0;34m\u001b[0m\u001b[0;34m\u001b[0m\u001b[0;34m\u001b[0m\u001b[0m\n\u001b[1;32m     23\u001b[0m   \u001b[0mhand_test\u001b[0m\u001b[0;34m(\u001b[0m\u001b[0mvoc\u001b[0m\u001b[0;34m,\u001b[0m\u001b[0men\u001b[0m\u001b[0;34m,\u001b[0m\u001b[0mde\u001b[0m\u001b[0;34m,\u001b[0m\u001b[0mtop\u001b[0m\u001b[0;34m,\u001b[0m\u001b[0msource\u001b[0m\u001b[0;34m)\u001b[0m\u001b[0;34m\u001b[0m\u001b[0;34m\u001b[0m\u001b[0m\n",
      "\u001b[0;32m~/.conda/envs/chatbot/lib/python3.6/site-packages/ipykernel/kernelbase.py\u001b[0m in \u001b[0;36mraw_input\u001b[0;34m(self, prompt)\u001b[0m\n\u001b[1;32m    851\u001b[0m             \u001b[0mself\u001b[0m\u001b[0;34m.\u001b[0m\u001b[0m_parent_ident\u001b[0m\u001b[0;34m,\u001b[0m\u001b[0;34m\u001b[0m\u001b[0;34m\u001b[0m\u001b[0m\n\u001b[1;32m    852\u001b[0m             \u001b[0mself\u001b[0m\u001b[0;34m.\u001b[0m\u001b[0m_parent_header\u001b[0m\u001b[0;34m,\u001b[0m\u001b[0;34m\u001b[0m\u001b[0;34m\u001b[0m\u001b[0m\n\u001b[0;32m--> 853\u001b[0;31m             \u001b[0mpassword\u001b[0m\u001b[0;34m=\u001b[0m\u001b[0;32mFalse\u001b[0m\u001b[0;34m,\u001b[0m\u001b[0;34m\u001b[0m\u001b[0;34m\u001b[0m\u001b[0m\n\u001b[0m\u001b[1;32m    854\u001b[0m         )\n\u001b[1;32m    855\u001b[0m \u001b[0;34m\u001b[0m\u001b[0m\n",
      "\u001b[0;32m~/.conda/envs/chatbot/lib/python3.6/site-packages/ipykernel/kernelbase.py\u001b[0m in \u001b[0;36m_input_request\u001b[0;34m(self, prompt, ident, parent, password)\u001b[0m\n\u001b[1;32m    881\u001b[0m             \u001b[0;32mexcept\u001b[0m \u001b[0mKeyboardInterrupt\u001b[0m\u001b[0;34m:\u001b[0m\u001b[0;34m\u001b[0m\u001b[0;34m\u001b[0m\u001b[0m\n\u001b[1;32m    882\u001b[0m                 \u001b[0;31m# re-raise KeyboardInterrupt, to truncate traceback\u001b[0m\u001b[0;34m\u001b[0m\u001b[0;34m\u001b[0m\u001b[0;34m\u001b[0m\u001b[0m\n\u001b[0;32m--> 883\u001b[0;31m                 \u001b[0;32mraise\u001b[0m \u001b[0mKeyboardInterrupt\u001b[0m\u001b[0;34m\u001b[0m\u001b[0;34m\u001b[0m\u001b[0m\n\u001b[0m\u001b[1;32m    884\u001b[0m             \u001b[0;32melse\u001b[0m\u001b[0;34m:\u001b[0m\u001b[0;34m\u001b[0m\u001b[0;34m\u001b[0m\u001b[0m\n\u001b[1;32m    885\u001b[0m                 \u001b[0;32mbreak\u001b[0m\u001b[0;34m\u001b[0m\u001b[0;34m\u001b[0m\u001b[0m\n",
      "\u001b[0;31mKeyboardInterrupt\u001b[0m: "
     ]
    }
   ],
   "source": [
    "corpusTxt = 'stc2017_14k.txt'\n",
    "iteration = 6000\n",
    "top = 2\n",
    "###################################\n",
    "\n",
    "def hand_test(voc,en,de,top,source):\n",
    "  source2 = filter(voc, source)\n",
    "  target = predict(en, de, voc, source2, top)\n",
    "  print(\"source: '%s'\\nfilter: '%s'\" % (source,source2))\n",
    "  #return target\n",
    "  for answer in target:\n",
    "    print(\"\\t'%s'\" % (answer))\n",
    "\n",
    "#homePath = '/content/drive/My Drive/Colab Notebooks/seq2seq/'\n",
    "homePath = '/home/seke/jupyter/seq2seq/'\n",
    "modelFile = homePath + 'save/model/' + corpusTxt[:-4] + '/1-1_512/' + str(iteration) + '_backup_bidir_model.tar'\n",
    "\n",
    "en, de, voc = predictLoad(corpusTxt[:-4], modelFile, n_layers=1, hidden_size=512)\n",
    "\n",
    "while(True):\n",
    "  source = input(\"Segmented Question Input: \")\n",
    "  #seg_source = mecab_parse_space(source)\n",
    "  hand_test(voc,en,de,top,source)"
   ]
  },
  {
   "cell_type": "code",
   "execution_count": null,
   "metadata": {},
   "outputs": [],
   "source": []
  }
 ],
 "metadata": {
  "accelerator": "GPU",
  "colab": {
   "collapsed_sections": [],
   "name": "chatbot2017.ipynb",
   "provenance": [
    {
     "file_id": "1Dxt5VhG0DgOCsKa7WjPbY9H4al4grbwo",
     "timestamp": 1542537768407
    }
   ],
   "toc_visible": true,
   "version": "0.3.2"
  },
  "kernelspec": {
   "display_name": "Python 3",
   "language": "python",
   "name": "python3"
  },
  "language_info": {
   "codemirror_mode": {
    "name": "ipython",
    "version": 3
   },
   "file_extension": ".py",
   "mimetype": "text/x-python",
   "name": "python",
   "nbconvert_exporter": "python",
   "pygments_lexer": "ipython3",
   "version": "3.6.8"
  }
 },
 "nbformat": 4,
 "nbformat_minor": 1
}
